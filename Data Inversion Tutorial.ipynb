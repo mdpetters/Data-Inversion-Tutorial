{
 "cells": [
  {
   "cell_type": "markdown",
   "metadata": {
    "slideshow": {
     "slide_type": "slide"
    }
   },
   "source": [
    "# <center>  Data Inversion for Aerosol Science and Technology </center> \n",
    "\n",
    "__Author:__ Markus Petters (mdpetter@ncsu.edu)\n",
    "\n",
    "__Abstract__. Many aerosol measurement techniques produce raw measurement response functions that must be inverted to properly interpret the data. This tutorial will introduce common inversion approaches used in Aerosol Science & Technology. One often used technique is mobility classification of aerosol using electrical mobility analyzers. The tutorial will briefly introduce the aerosol sampling with mobility analyzers and provide hands-on examples for several instrument configurations. The examples are designed to demonstrate how the inversion of mobility analyzer response functions is critical to informing experimental design and data analysis. At the end of the session, tutorial participants will have a starting point to modify supplied computer code for use in their own research projects.\n",
    "\n",
    "<div class=\"alert alert-success\">\n",
    " \n",
    "**By the end of this tutorial you will be able to**\n",
    "\n",
    "- Create and manipulate size distributions in code.\n",
    "- Represent cylindrical and radial DMAs with arbitrary dimensions in code.\n",
    "- Compute the moments of output from a DMA operated at a single voltage.\n",
    "- Compute the convolution matrix for DMAs with corresponding to a custom instrument.\n",
    "- Evaluate how measurement noise influences the least-squares inversion scheme.\n",
    "- Apply regularization to smooth the least-squares inversion results.\n",
    "- Apply the L-curve to identify the optimal regularization parameter.\n",
    "- Apply the code to invert a DMA response function loaded from a data file.\n",
    "- Apply the code to invert size resolved CCN data loaded from a data file.\n",
    "\n",
    "</div>\n",
    "\n",
    "\n",
    "<div class=\"alert alert-danger\">\n",
    "\n",
    "**Instructions**\n",
    "    \n",
    "- Go to Menu \"Cell\" -> \"Run all Cells Below\"\n",
    "- The notebook will initialize all cells (~30 s)\n",
    "- Navigate back to this point and start with the first video.    \n",
    "- Work through the notebook sequentially.\n",
    " \n",
    "</div>"
   ]
  },
  {
   "cell_type": "markdown",
   "metadata": {
    "slideshow": {
     "slide_type": "slide"
    }
   },
   "source": [
    "# Welcome"
   ]
  },
  {
   "cell_type": "code",
   "execution_count": null,
   "metadata": {
    "scrolled": false,
    "slideshow": {
     "slide_type": "slide"
    }
   },
   "outputs": [],
   "source": [
    "include(\"Scripts/startup.jl\")\n",
    "display(\"https://www.youtube.com/watch?v=bVeG1FrRUIE\")"
   ]
  },
  {
   "cell_type": "markdown",
   "metadata": {},
   "source": [
    "## Navigation and Symbols"
   ]
  },
  {
   "cell_type": "code",
   "execution_count": null,
   "metadata": {},
   "outputs": [],
   "source": [
    "play(\"Audio/transfer-function1.ogg\")"
   ]
  },
  {
   "cell_type": "markdown",
   "metadata": {},
   "source": [
    "<div class=\"alert alert-success\">\n",
    "\n",
    "**You met the following learning objective**\n",
    "\n",
    "- Create and delete cells in Jupyter.\n",
    "\n",
    "</div>\n",
    "\n",
    "<div class=\"alert alert-warning\">\n",
    "\n",
    "**This is a key point**\n",
    "    \n",
    "Newton's law will do the trick: $F = ma$\n",
    "\n",
    "</div>\n",
    "\n",
    "<div class=\"alert alert-danger\">\n",
    "\n",
    "**Important additional information**\n",
    "    \n",
    "- You need some calculus to find the velocity from $F = ma$.\n",
    "- Further details are in the Feynman Lectures on Physics.\n",
    "\n",
    "</div>\n",
    "\n",
    "<div class=\"alert alert-info\">\n",
    "\n",
    "**Assignment**\n",
    "\n",
    "Calculate the force a 1 kg heavy ball will exert on a scale.\n",
    "\n",
    "</div>\n"
   ]
  },
  {
   "cell_type": "markdown",
   "metadata": {},
   "source": [
    "## Jupyter Cells"
   ]
  },
  {
   "cell_type": "code",
   "execution_count": null,
   "metadata": {},
   "outputs": [],
   "source": [
    "play(\"Audio/transfer-function1.ogg\")"
   ]
  },
  {
   "cell_type": "code",
   "execution_count": null,
   "metadata": {
    "slideshow": {
     "slide_type": "fragment"
    }
   },
   "outputs": [],
   "source": [
    "println(\"Hello World\")"
   ]
  },
  {
   "cell_type": "markdown",
   "metadata": {
    "slideshow": {
     "slide_type": "fragment"
    }
   },
   "source": [
    "<div class=\"alert alert-info\">\n",
    "Write one line of code to print \"Aerosol Science Rocks!\".\n",
    "</div>"
   ]
  },
  {
   "cell_type": "code",
   "execution_count": null,
   "metadata": {
    "slideshow": {
     "slide_type": "fragment"
    }
   },
   "outputs": [],
   "source": []
  },
  {
   "cell_type": "markdown",
   "metadata": {},
   "source": [
    "<div class=\"alert alert-info\">\n",
    "Create a new cell below this one calculate 1+1\n",
    "</div>"
   ]
  },
  {
   "cell_type": "markdown",
   "metadata": {},
   "source": [
    "## Outline \n",
    "\n",
    "<div class=\"alert alert-danger\">\n",
    "\n",
    "**This tutorial covers the following topics**\n",
    "\n",
    "1. Introduction \n",
    "2. Size Distribution\n",
    "3. Overview over the DMA\n",
    "4. Transmission through the DMA at Constant Voltage\n",
    "5. Inversion of Size Distribution Data\n",
    "6. Inversion of Size-Resolved CCN Data\n",
    "7. Summary and Perspective\n",
    "8. Epilogue\n",
    "    \n",
    "</div>"
   ]
  },
  {
   "cell_type": "markdown",
   "metadata": {},
   "source": [
    "# 1. Introduction"
   ]
  },
  {
   "cell_type": "markdown",
   "metadata": {},
   "source": [
    "## 1.1 Inverse Problems"
   ]
  },
  {
   "cell_type": "code",
   "execution_count": null,
   "metadata": {},
   "outputs": [],
   "source": [
    "play(\"Audio/transfer-function1.ogg\")"
   ]
  },
  {
   "cell_type": "markdown",
   "metadata": {},
   "source": [
    "**The inverse problem**\n",
    "\n",
    "> [Source: Wolfram Mathworld](https://mathworld.wolfram.com/InverseProblem.html): To predict the result of a measurement requires (1) a model of the system under investigation, and (2) a physical theory linking the parameters of the model to the parameters being measured. This prediction of observations, given the values of the parameters defining the model constitutes the \"normal problem,\" or, in the jargon of inverse problem theory, the forward problem. The \"inverse problem\" consists in using the results of actual observations to infer the values of the parameters characterizing the system under investigation. \n",
    "\n",
    "\n",
    "<div class=\"alert alert-warning\">\n",
    "\n",
    "**Approach to solve the inverse problem**\n",
    "\n",
    "1. Write Fredholm integral equations of the first kind for specific problem\n",
    "2. Discretize equation to write in Matrix form\n",
    "3. Apply inversion with regularization with constraints\n",
    "    \n",
    "</div>"
   ]
  },
  {
   "cell_type": "markdown",
   "metadata": {},
   "source": [
    "## 1.2 The Differential Mobility Analyzer"
   ]
  },
  {
   "cell_type": "code",
   "execution_count": null,
   "metadata": {},
   "outputs": [],
   "source": [
    "play(\"Audio/transfer-function1.ogg\")"
   ]
  },
  {
   "cell_type": "markdown",
   "metadata": {},
   "source": [
    "The cylindrical DMA (Knutson and Whitby, 1975) passes a polydisperse aerosol flow through an annulus gap. An electric potential is applied between the inner and outer column. The electric potential drags charged particles through a viscous sheath flow. Particles whose mobility coincide with the electric and flow field forces will be steered to the sample slit. All other particles exit with the excess flow. \n",
    "\n",
    "<img src=\"Figures/nbs1_f01.png\" width=\"400\"> \n",
    "<b> Figure 1. </b> Schematic of a differential mobility analyzer. The cylindrical differential mobility analyzer is an annular capacitor. The column's properties are defined by the radii $r_1$, $r_2$, the length of the aerosol path, $l$. Operation conditions are defined by the the electric potential $v$ applied across the annulus and the four flow rates: sheath flow, $q_{sh}$, polydisperse aerosol flow $q_a$, excess flow, $q_{ex}$, and monodisperse sample flow, $q_{sa}$. Throughout this work it is assumed that the flows are balanced, i.e. $q_{sh} = q_{ex}$ and $q_{sa} = q_a$. The two flows tracked are $q_{sh}$ and $q_{sa}$. Dimensions and flow range for one commonly used model are provided in Table 1 below. <br>\n",
    "\n",
    "\n",
    "<center>\n",
    "<table style=\"width:45%\">\n",
    "    <caption> <b> Table. </b> Geometry of the TSI 3080 long cylindrical DMA column together with typical ranges for operation parameters. </caption>\n",
    "  <tr>\n",
    "    <th align=\"justify\">Geometry parameter</th>\n",
    "    <th align=\"justify\">Value</th> \n",
    "    <th align=\"justify\">Operational parameter</th>\n",
    "    <th align=\"justify\">Range</th> \n",
    "</tr>\n",
    "  <tr>\n",
    "    <td align=\"justify\">$r_1$</td>\n",
    "    <td align=\"justify\">9.37×10⁻³ m</td> \n",
    "    <td align=\"justify\">$v$</td>\n",
    "    <td align=\"justify\">± 10-10000 V</td> \n",
    "</tr>\n",
    "  <tr>\n",
    "    <td align=\"justify\">$r_2$</td>\n",
    "    <td align=\"justify\">1.961×10⁻² m</td> \n",
    "    <td align=\"justify\">$q_{sh}$</td>\n",
    "    <td align=\"justify\">2-20 L min⁻¹</td> \n",
    "</tr>\n",
    "  <tr>\n",
    "    <td align=\"justify\">$l$</td>\n",
    "    <td align=\"justify\">0.44369 m</td> \n",
    "    <td align=\"justify\">$q_{sa}$</td>\n",
    "    <td align=\"justify\">0.3-2 L min⁻¹</td> \n",
    "  </tr>\n",
    "</table>\n",
    "</center>\n"
   ]
  },
  {
   "cell_type": "markdown",
   "metadata": {},
   "source": [
    "# 2. Size Distribution"
   ]
  },
  {
   "cell_type": "markdown",
   "metadata": {},
   "source": [
    "## 2.1 Histogram Representation "
   ]
  },
  {
   "cell_type": "code",
   "execution_count": null,
   "metadata": {},
   "outputs": [],
   "source": [
    "play(\"Audio/transfer-function1.ogg\")"
   ]
  },
  {
   "cell_type": "code",
   "execution_count": null,
   "metadata": {},
   "outputs": [],
   "source": [
    "include(\"Scripts/size_distribution1.jl\")"
   ]
  },
  {
   "cell_type": "markdown",
   "metadata": {},
   "source": [
    "<b> Table 1. </b> Example representation of a lognormal aerosol size distribution on a 10-bin geometrically stepped grid ranging from 30 to 300 nm with geometric standard deviation 1.2 and total number concentration 200 cm⁻³ . Column 1 gives the bin number, Dlow is the lower bin diameter, Dup is the upper bin diameter, ΔlnD = ln(Dup) - ln(Dlow), Dp = $\\sqrt{Dup \\cdot Dlow}$ is the geometric midpoint diameter of the bin, S $\\equiv \\frac{dN}{d\\ln Dp}$ is the number spectral density [cm⁻³] and N = $\\frac{dN}{d\\ln Dp} \\cdot d\\ln Dp$ is the number concentration in each bin [cm⁻³]. The total number concentration is recovered by summing over all bins, i.e. Nt = $\\sum_{i=1}^{10} N$. For a geometrically stepped grid, the ΔlnD is identical in each bin. Numbers are rounded for clarity. "
   ]
  },
  {
   "cell_type": "markdown",
   "metadata": {},
   "source": [
    "#### Size Distribution Function\n",
    "\n",
    "The multi-modal lognormal size distribution is given by (e.g. Seinfeld and Pandis, 2006)\n",
    "<center> $\\frac{dN}{d\\ln D_p} = \\sum_{i=1}^n \\frac{N_{t,i}}{\\sqrt{2\\pi}\\ln\\sigma_{g,i}} \\exp \\left(- \\frac{\\left[\\ln D_p-\\ln D_{pg,i}\\right]^2}{2\\ln \\sigma_{g,i}^2}\\right) $  </center>\n",
    "where $\\frac{dN}{d\\ln D_p}$ is the spectral number density, $N_{t,i}$ is the total number concentration, $\\sigma_{g,i}$ is the geometric standard deviation, and $D_{pg,i}$ is the geometric mean diameter of the $i^{th}$ mode, and $n$ is the number of modes. <br> "
   ]
  },
  {
   "cell_type": "markdown",
   "metadata": {},
   "source": [
    "## 2.2 Representing the Size Distribution in Code"
   ]
  },
  {
   "cell_type": "code",
   "execution_count": null,
   "metadata": {},
   "outputs": [],
   "source": [
    "play(\"Audio/transfer-function1.ogg\")"
   ]
  },
  {
   "cell_type": "markdown",
   "metadata": {},
   "source": [
    "The size distribution is a composite data type (structure) that has the fields Dp, De, ΔlnD, S, and N, corresponding to the table representation above.\n",
    "\n",
    "<div class=\"alert alert-warning\">\n",
    "    \n",
    "- 𝕟.Dp: Geometric midpoint diameters\n",
    "- 𝕟.De: Bin edge diameters\n",
    "- 𝕟.ΔlnD: Log bin spacing, ΔlnD = ln(Dup/Dlow)\n",
    "- 𝕟.S: Spectral density\n",
    "- 𝕟.N: Number concentration in the bin\n",
    "\n",
    "</div>"
   ]
  },
  {
   "cell_type": "code",
   "execution_count": null,
   "metadata": {},
   "outputs": [],
   "source": [
    "# This creates a size distribution with 10 bins between 30 and 300 nm. \n",
    "# It is the same size distribution as shown in Table 1.\n",
    "𝕟 = lognormal([[200, 80, 1.2]]; d1 = 30.0, d2 = 300.0, bins = 10);"
   ]
  },
  {
   "cell_type": "code",
   "execution_count": null,
   "metadata": {},
   "outputs": [],
   "source": [
    "# This is the array of bin edge diameters. Compare to Dlow and Dup in Table 1.\n",
    "𝕟.De"
   ]
  },
  {
   "cell_type": "markdown",
   "metadata": {},
   "source": [
    "<div class=\"alert alert-info\">\n",
    "Write one line of code to display the number concentration in each bin\n",
    "</div>"
   ]
  },
  {
   "cell_type": "code",
   "execution_count": null,
   "metadata": {},
   "outputs": [],
   "source": []
  },
  {
   "cell_type": "markdown",
   "metadata": {},
   "source": [
    "<div class=\"alert alert-info\">\n",
    "Write one line of code to display the midpoint diameters\n",
    "</div>"
   ]
  },
  {
   "cell_type": "code",
   "execution_count": null,
   "metadata": {},
   "outputs": [],
   "source": []
  },
  {
   "cell_type": "markdown",
   "metadata": {},
   "source": [
    "<div class=\"alert alert-info\">\n",
    "Write one line of code to extract the number concentration in the 5th bin. Julia starts indexing at 1. Square brackets are used to extract arrays, i.e. x[2] extracts the second element of array x\n",
    "</div>"
   ]
  },
  {
   "cell_type": "code",
   "execution_count": null,
   "metadata": {},
   "outputs": [],
   "source": []
  },
  {
   "cell_type": "markdown",
   "metadata": {},
   "source": [
    "<div class=\"alert alert-info\">\n",
    "Write one line of code to create a size distribution from 10 to 1000 nm with 256 size bins. Call this size distribution myN.\n",
    "</div>"
   ]
  },
  {
   "cell_type": "code",
   "execution_count": null,
   "metadata": {},
   "outputs": [],
   "source": []
  },
  {
   "cell_type": "markdown",
   "metadata": {},
   "source": [
    "## 2.3 Size Distribution Arithmetic"
   ]
  },
  {
   "cell_type": "code",
   "execution_count": null,
   "metadata": {},
   "outputs": [],
   "source": [
    "play(\"Audio/transfer-function1.ogg\")"
   ]
  },
  {
   "cell_type": "markdown",
   "metadata": {},
   "source": [
    "### 2.3.1 Addition of two size distributions\n",
    "Let 𝕟₁ and 𝕟₂ denote a two size distribution defined on the same diameter grid. Then\n",
    "```julia\n",
    "𝕩 = 𝕟₁ + 𝕟₂ \n",
    "```\n",
    "is defined such that \n",
    "```julia\n",
    "𝕩.S = 𝕟₁.S + 𝕟₂.S \n",
    "𝕩.N = 𝕩.S .* 𝕟.ΔlnD \n",
    "```\n",
    "\n",
    "<div class=\"alert alert-warning\">\n",
    "The net result is the superposition of size distributions.\n",
    "</div>\n",
    "\n",
    "<div class=\"alert alert-danger\">\n",
    "The bins don't have be identical. The summation will rebin 𝕟₂ onto grid 𝕟₁\n",
    "</div>"
   ]
  },
  {
   "cell_type": "code",
   "execution_count": null,
   "metadata": {},
   "outputs": [],
   "source": [
    "# Example addition of size distributions\n",
    "𝕟₁ = lognormal([[120, 90, 1.20]]; d1 = 10.0, d2 = 1000.0, bins = 256);  # size distribution\n",
    "𝕟₂ = lognormal([[90, 140, 1.15]]; d1 = 20.0, d2 = 800.0, bins = 256);    # size distribution\n",
    "𝕩 = 𝕟₁+𝕟₂\n",
    "include(\"Scripts/pretty_plot_sizedistribution1.jl\")"
   ]
  },
  {
   "cell_type": "markdown",
   "metadata": {},
   "source": [
    "<b> Figure. </b> Illustration of the operation 𝕟₁+𝕟₂. The operation intuitively superimposed the two distributions into a single distribution. "
   ]
  },
  {
   "cell_type": "markdown",
   "metadata": {},
   "source": [
    "### 2.3.2 Multiplication of vector and size distribution\n",
    "Let T denote a 1D vector that has the same number of elements as the size distribution $𝕟$. Then\n",
    "```julia\n",
    "𝕩 = T * 𝕟 \n",
    "```\n",
    "is defined such that \n",
    "```julia\n",
    "𝕩.N = T * 𝕟.N\n",
    "𝕩.S = T * 𝕟.S\n",
    "```\n",
    "\n",
    "\n",
    "<div class=\"alert alert-warning\">\n",
    "The net result is a bin-by-bin scaling of the number concentration.                               \n",
    "</div>\n"
   ]
  },
  {
   "cell_type": "code",
   "execution_count": null,
   "metadata": {},
   "outputs": [],
   "source": [
    "𝕟 = lognormal([[100, 100, 1.4]]; d1 = 10.0, d2 = 1000.0, bins = 128)  \n",
    "μ,σ = 100.0, 200.0\n",
    "T(x) = @. 0.5*(1.0 + erf((x - μ)/(sqrt(2σ)))) # Simple error function with mean μ and std. dev σ\n",
    "𝕩 = T(𝕟.Dp)*𝕟    \n",
    "include(\"Scripts/pretty_plot_sizedistribution2.jl\")"
   ]
  },
  {
   "cell_type": "markdown",
   "metadata": {},
   "source": [
    "<b> Figure. </b> Illustration of the operation T$*$𝕟. The array T is defined for each diameter point of the distribution. The convolution 𝕩 = T$*$𝕟 also applies to number concentration (not shown)."
   ]
  },
  {
   "cell_type": "markdown",
   "metadata": {},
   "source": [
    "### 2.3.3 Multiplication of a scalar and a size distribution\n",
    "\n",
    "Let a denote a floating point scalar and $𝕟$ denote a size distribution. Then\n",
    "```julia\n",
    "𝕩 = a⋅𝕟\n",
    "```\n",
    "is defined such that \n",
    "```julia\n",
    "𝕩.Dp = a*𝕟.Dp \n",
    "```\n",
    "\n",
    "<div class=\"alert alert-warning\">\n",
    "The net result is a uniform diameter shift of the size distribution.\n",
    "</div>\n"
   ]
  },
  {
   "cell_type": "code",
   "execution_count": null,
   "metadata": {},
   "outputs": [],
   "source": [
    "a = 2.0 # Note that a must be a floating point number\n",
    "𝕟 = lognormal([[300, 100, 1.3]]; d1 = 10.0, d2 = 1000.0, bins = 256);  # size distribution\n",
    "𝕩 = a⋅𝕟 \n",
    "include(\"Scripts/pretty_plot_sizedistribution3.jl\")"
   ]
  },
  {
   "cell_type": "markdown",
   "metadata": {},
   "source": [
    "<b> Figure. </b> Illustration of the operation a⋅𝕟. The operation shifts the size distribution by a factor of two. Note, that the underlying diameter grid remains unchanged. This is achieved by interpolating the shifted size distribution back onto the original diameter grid. For this reason, the final fields dp and de are unaltered. "
   ]
  },
  {
   "cell_type": "markdown",
   "metadata": {},
   "source": [
    "### 2.3.4 Multiplication of a matrix and a size distribution\n",
    "Let <b>A</b> denote a $n\\times n$ matrix where $n$ equals the number of size bins of $𝕟$. Then\n",
    "```julia\n",
    "𝕩 = 𝐀*𝕟 \n",
    "```\n",
    "is defined such that \n",
    "```julia\n",
    "𝕩.N = 𝐀*𝕟.N\n",
    "𝕩.S = 𝐀*𝕟.S\n",
    "```\n",
    "The operator $*$ denotes matrix multiplication. \n",
    "\n",
    "<div class=\"alert alert-warning\">\n",
    "The net result is product of matrix 𝐀 and the concentration vector N.\n",
    "</div>"
   ]
  },
  {
   "cell_type": "markdown",
   "metadata": {},
   "source": [
    "<div class=\"alert alert-success\">\n",
    "\n",
    "**You have met the following learning objective:**\n",
    "    \n",
    "- Create and manipulate size distributions in code.\n",
    "    \n",
    "</div>"
   ]
  },
  {
   "cell_type": "markdown",
   "metadata": {
    "slideshow": {
     "slide_type": "subslide"
    }
   },
   "source": [
    "# 3. Representing DMAs\n",
    "\n",
    "## 3.1 Representing DMA Geometry in Code"
   ]
  },
  {
   "cell_type": "code",
   "execution_count": null,
   "metadata": {},
   "outputs": [],
   "source": [
    "play(\"Audio/transfer-function1.ogg\")"
   ]
  },
  {
   "cell_type": "markdown",
   "metadata": {},
   "source": [
    "The data type Λ defines the DMA in terms of flow rates and geometry and power supply polarity. The geometry parameters used in this example correspond to the TSI 3080 long column. The effective diffusion length describes diffusional loss in the DMA column (Reineking & Porstendörfer, 1986) which is described further below. Diffusional loss is ignored if leff = 0. Once instantiated Λ is queried to derive DMA/configuration specific properties."
   ]
  },
  {
   "cell_type": "code",
   "execution_count": null,
   "metadata": {
    "slideshow": {
     "slide_type": "subslide"
    }
   },
   "outputs": [],
   "source": [
    "using DifferentialMobilityAnalyzers              # Load the package (only needed once)\n",
    "\n",
    "qsa,qsh = 1.66e-5, 8.33e-5                       # Qsample [m3 s-1], Qsheath [m3 s-1]\n",
    "t,p = 295.15, 1e5                                # Temperature [K], Pressure [Pa]\n",
    "r₁,r₂,l = 9.37e-3,1.961e-2,0.44369               # DMA geometry [m]\n",
    "leff = 13.0                                      # DMA effective diffusion length [m]\n",
    "m = 6                                            # Upper number of charges\n",
    "DMAtype = :cylindrical                           # specify DMA type as cylindrical or radial\n",
    "polarity = :-                                    # negative :- or positive :+ polartiy\n",
    "\n",
    "Λ = DMAconfig(t,p,qsa,qsh,r₁,r₂,l,leff,polarity,m,DMAtype)  "
   ]
  },
  {
   "cell_type": "markdown",
   "metadata": {},
   "source": [
    "<div class=\"alert alert-info\">\n",
    "Write code in the cell below to instantiate a DMA with the following conditions: \n",
    "    \n",
    "- positive polarity power supply\n",
    "- room temperature\n",
    "- Boulder pressure (840 hPa)\n",
    "- cylindrical geometery\n",
    "- no diffusional loss\n",
    "- sheath-to-sample flow rate of 10:1\n",
    "- sample flow rate 1 L min-1\n",
    "- geometery of the TSI long column DMA\n",
    "    \n",
    "Name this DMA myΛ\n",
    "</div>"
   ]
  },
  {
   "cell_type": "code",
   "execution_count": null,
   "metadata": {},
   "outputs": [],
   "source": []
  },
  {
   "cell_type": "markdown",
   "metadata": {},
   "source": [
    "## 3.2 Relationship between voltage, mobility, and diameter\n"
   ]
  },
  {
   "cell_type": "code",
   "execution_count": null,
   "metadata": {},
   "outputs": [],
   "source": [
    "play(\"Audio/transfer-function1.ogg\")"
   ]
  },
  {
   "cell_type": "markdown",
   "metadata": {},
   "source": [
    "For the cylindrical DMA and balanced flows, the relationship between voltage, mobility, and diameter is given by Knutson and Whitby (1975)\n",
    "<div class=\"alert alert-warning\">\n",
    "<center> $z^s = \\frac{q_{sh}}{2\\pi l v} \\ln \\left(\\frac{r_2}{r_1}\\right)$ </center>\n",
    "where $v$ is the potential applied between the inner and out section of the annulus, $r_1$, $r_2$, and $l$ are the dimensions of the cylindrical DMA (Table 1) and $q_{sh}$ is the sheath flow rate. The relationship between diameter $d_p$ and centroid mobility \"z star\" ($z^s$) is \n",
    "<center> $d_p =  \\frac{kec_c}{3\\pi \\eta z^s}$ </center>\n",
    "where $e$ is the elementary charge and $k$ is the number of charges on the particle, $c_c$ is the Cunningham correction factor, and $\\eta$ is the viscosity of the fluid. <br> \n",
    "</div>\n",
    "    \n",
    "Some of the conversions requires iteration. The function \n",
    "\n",
    "- ```vtod(Λ,v)``` converts voltage to diameter\n",
    "- ```dtoz(Λ,d)``` converts mobility diameter to mobility\n",
    "- ```ztod(Λ,k,z)``` converts mobility to mobility diameter for particles carrying k charges\n",
    "\n",
    "and Λ subsumes the DMA geometery (r1,r2,l), sheath flow rate, and t,p."
   ]
  },
  {
   "cell_type": "code",
   "execution_count": null,
   "metadata": {},
   "outputs": [],
   "source": [
    "k = 1\n",
    "v = 1000\n",
    "z = vtoz(Λ, v)\n",
    "dp = ztod(Λ, k, z)\n",
    "@printf(\"V = %i V corresponds to Z = %.2e []\\n\", v, z)\n",
    "@printf(\"Z = %.2e [] and n = %i charge(s) corresponds to Dp = %i nm\\n\", z, k, dp)\n",
    "@printf(\"Dp = %i nm and n = 1 charge corresponds to Zp = %.2e nm\\n\", dp, dtoz(Λ,dp*1e-9))"
   ]
  },
  {
   "cell_type": "markdown",
   "metadata": {},
   "source": [
    "<div class=\"alert alert-info\">\n",
    "\n",
    "Write code in the cell below to compute the mobility diameter of particles carrying two negative charges that would be selected at 5 kV potential by the DMA you configured above (myΛ).\n",
    "\n",
    "</div>"
   ]
  },
  {
   "cell_type": "code",
   "execution_count": null,
   "metadata": {},
   "outputs": [],
   "source": []
  },
  {
   "cell_type": "markdown",
   "metadata": {},
   "source": [
    "<div class=\"alert alert-info\">\n",
    "\n",
    "Use the function ```dtoz(Λ,d)``` to verify that the diameter 114 nm corresponds to electrical mobility 2.20e-08 m2 V-1 s-1 for the DMA Λ, as claimed above. Note that d in dtoz is in units of m.\n",
    "\n",
    "</div>"
   ]
  },
  {
   "cell_type": "code",
   "execution_count": null,
   "metadata": {},
   "outputs": [],
   "source": []
  },
  {
   "cell_type": "markdown",
   "metadata": {},
   "source": [
    "## 3.3 Representing the DMA Grid"
   ]
  },
  {
   "cell_type": "code",
   "execution_count": null,
   "metadata": {},
   "outputs": [],
   "source": [
    "play(\"Audio/transfer-function1.ogg\")"
   ]
  },
  {
   "cell_type": "markdown",
   "metadata": {},
   "source": [
    "The DMA is operature between an upper and lower voltage limit. The full range is usually 10V to 10kV. At higher voltages the electric field breaks down. A convenient way to bin the DMA is to work with a log spaced mobility grid, which in essence is the size distribution histogram where diameters are computed using ztod. In code the DMA grid is represented using the DifferentialMobilityAnalyzer composite data type."
   ]
  },
  {
   "cell_type": "code",
   "execution_count": null,
   "metadata": {},
   "outputs": [],
   "source": [
    "bins,z₁,z₂ = 60, vtoz(Λ,10000), vtoz(Λ,10)    # bins, upper, lower mobility limit\n",
    "δ = setupDMA(Λ, z₁, z₂, bins);                # Setup DMA grid"
   ]
  },
  {
   "cell_type": "markdown",
   "metadata": {},
   "source": [
    "The ```δ``` structure that contains \n",
    "\n",
    "- ```Z``` are the mobility bin midpoints, \n",
    "- ```Dp``` are the diameter bin midpoints (internally in units of nm) \n",
    "- ```Ze``` are the mobility bin edges, \n",
    "- ```De``` are the diameter bin edges, \n",
    "- ```ΔlnD``` is the natural log ratio of upper and lower diameter bin edge"
   ]
  },
  {
   "cell_type": "code",
   "execution_count": null,
   "metadata": {},
   "outputs": [],
   "source": [
    "# Above we generated 60 bins between 10V and 10 kV for DMA Λ. Thise are the midpoint diameter bins.\n",
    "δ.Dp"
   ]
  },
  {
   "cell_type": "markdown",
   "metadata": {},
   "source": [
    "<div class=\"alert alert-info\">\n",
    "\n",
    "Define your DMA grid myδ for your DMA myΛ, using a 30 bin representation and assuming that the DMA is operated between 50V and 5kV. Show the diameter grid.\n",
    "\n",
    "</div>"
   ]
  },
  {
   "cell_type": "code",
   "execution_count": null,
   "metadata": {},
   "outputs": [],
   "source": []
  },
  {
   "cell_type": "markdown",
   "metadata": {},
   "source": [
    "<div class=\"alert alert-info\">\n",
    "\n",
    "Write a statement that shows the mobility grid corresponding to you diameter grid\n",
    "\n",
    "</div>"
   ]
  },
  {
   "cell_type": "code",
   "execution_count": null,
   "metadata": {},
   "outputs": [],
   "source": []
  },
  {
   "cell_type": "markdown",
   "metadata": {},
   "source": [
    "<div class=\"alert alert-success\">\n",
    "\n",
    "**You have met the following learning objective**\n",
    "\n",
    "- Represent cylindrical and radial DMAs with arbitrary dimensions in code.\n",
    "\n",
    "</div>"
   ]
  },
  {
   "cell_type": "markdown",
   "metadata": {},
   "source": [
    "## 3.4 (Diffusing) DMA Transfer Function"
   ]
  },
  {
   "cell_type": "code",
   "execution_count": null,
   "metadata": {},
   "outputs": [],
   "source": [
    "play(\"Audio/transfer-function1.ogg\")"
   ]
  },
  {
   "cell_type": "code",
   "execution_count": null,
   "metadata": {},
   "outputs": [],
   "source": [
    "include(\"Scripts/plot_transfer_function1.jl\")"
   ]
  },
  {
   "cell_type": "markdown",
   "metadata": {},
   "source": [
    "**Figure.** Normalized DMA transfer function for DMA Λ with sheath-to-sample flow ratio β = 1/5  and 20 and 200 nm particles. The 20 nm transfer function is smeared due to diffusional broadening.\n",
    "\n",
    "The DMA transfer function is the probability that a particle of a particle of a given size exits the classifier via the sample flow. The diffusive broadened DMA transfer function is computed assuming blanced sheath and excess flows using the expression of Stolzenburg and McMurry (2008).\n",
    "<center> $ \\Omega(\\tilde{z},\\beta,\\sigma) = \\frac{\\sigma}{\\sqrt{2}\\beta}\\left[\\epsilon \\left( \\frac{\\tilde{z}-(1+\\beta)}{\\sqrt{2}\\sigma} \\right) + \\epsilon \\left (\\frac{\\tilde{z}-(1-\\beta)}{\\sqrt{2}\\sigma} \\right) - 2\\epsilon \\left ( \\frac{\\tilde{z}-1}{\\sqrt{2}\\sigma}\\right)  \\right]$ </center>\n",
    "    \n",
    "where $\\tilde{z} = \\frac{z}{z^s}$ is the dimensionless mobility, $z$ is the particle mobility $z^s$ is the centroid mobility selected by the DMA, $\\epsilon = x \\mathrm{erf}(x) +\\left(\\exp(-x^2)/\\sqrt{\\pi}\\right)$, $\\mathrm{erf}$ is the error function, and $\\beta = \\frac{q_{sa}}{q_{sh}}$. The parameter $\\sigma$ accounts for diffusional broading of the transfer function. Assuming plug flow, $\\sigma$ can be computed using the following equations Hagwood (1999) <br> <br>\n",
    "$\\gamma = \\left(\\frac{r_1}{r_2}\\right)^2$ <br>\n",
    "$I = \\frac{1}{2}(1+γ)$ <br>\n",
    "$\\kappa = \\frac{lr_2}{r_2^2-r_1^2}$ <br>\n",
    "$G = \\frac{4(1+\\beta)^2}{(1-γ)} \\left[I+\\{2(1+\\beta)\\kappa\\}^{-2} \\right ] $<br>\n",
    "$\\sigma = \\sqrt{\\frac{2G\\pi ld_{ab}}{q_{sh}}}$ <br> <br>"
   ]
  },
  {
   "cell_type": "code",
   "execution_count": null,
   "metadata": {},
   "outputs": [],
   "source": [
    "play(\"Audio/transfer-function2.ogg\")"
   ]
  },
  {
   "cell_type": "markdown",
   "metadata": {},
   "source": [
    "<div class=\"alert alert-warning\">\n",
    "The transfer function is included in the \"DMA grid\" δ\n",
    "\n",
    "- ```δ.Ω(Λ,z,zˢ)``` where z is a vector of mobilities and zˢ (\"z star\") is the centroid mobility. \t\n",
    "</div>"
   ]
  },
  {
   "cell_type": "code",
   "execution_count": null,
   "metadata": {},
   "outputs": [],
   "source": [
    "zˢ = dtoz(Λ, 200e-9)      # centroid mobility for Dp = 200 nm\n",
    "z = δ.Z                   # mobility grid defined for the DMA (60 bins above)\n",
    "δ.Ω(Λ,z,zˢ)               # Output of the transfer function\n",
    "DataFrame(z = z, Ω = δ.Ω(Λ,z,zˢ))  # To make a pretty table"
   ]
  },
  {
   "cell_type": "code",
   "execution_count": null,
   "metadata": {},
   "outputs": [],
   "source": [
    "play(\"Audio/transfer-function3.ogg\")"
   ]
  },
  {
   "cell_type": "code",
   "execution_count": null,
   "metadata": {},
   "outputs": [],
   "source": [
    "include(\"Scripts/plot_transfer_function2.jl\")"
   ]
  },
  {
   "cell_type": "markdown",
   "metadata": {},
   "source": [
    "**Figure.** Example SMPS transfer function Ωav.\n",
    "\n",
    "<div class=\"alert alert-warning\">\n",
    "    \n",
    "During operation as scanning mobility particles, the voltage continously changes. Signal is acquired during some discrete time interval $t_c$. The SMPS transfer function is calculated as the average transfer function during the time interval $[t,t+t_c]$ (Wang and Flagan, 1990). <br> <br>\n",
    "\n",
    "<center> $\\Omega_{av} = \\frac{1}{tc}\\int_{t_i}^{t_i+t_c} \\Omega(Z,z^s(t)) dt$ </center>\n",
    "\n",
    "where $t_i$ is the start time when counting begins in channel $i$, $z^s(t)$ is the selected centroid mobility at time t and is calculated from the applied voltage. The voltage is usually varied exponentially with time from high-to-low (downscan) or low-high (upscan). The average transfer function is obtained by numerical integration.\n",
    "</div>"
   ]
  },
  {
   "cell_type": "markdown",
   "metadata": {},
   "source": [
    "## 3.5 Equilibrium Charge Distribution Function"
   ]
  },
  {
   "cell_type": "code",
   "execution_count": null,
   "metadata": {},
   "outputs": [],
   "source": [
    "play(\"Audio/transfer-function1.ogg\")"
   ]
  },
  {
   "cell_type": "code",
   "execution_count": null,
   "metadata": {},
   "outputs": [],
   "source": [
    "include(\"Scripts/pretty_plot_charge_fraction.jl\")"
   ]
  },
  {
   "cell_type": "markdown",
   "metadata": {},
   "source": [
    "Charging efficiency (charge equilibrium) obtained in the bipolar charger is computed based on the parameterized measurements by Wiedensohler et al. (1988) with coefficients taken from the TSI 3080 Manual (2009). \n",
    "<center> $T_c(k) = 10^\\left\\{ \\sum_{i=1}^6 a_i (k) \\left[ \\ln \\left(\\frac{D_p}{nm}\\right) \\right]^{i-1} \\right \\}$ </center>\n",
    "where $k = -2,-1,1,2$ is the number and polarity of particle charge and $a_i$ are empirical coefficients. <br> <br>\n",
    "The function Tc(k) is defined in module DifferentialMobilityAnalyzer.jl. It return the charging efficiency for n charges. Each function belongs to a DMA structure, which sets the internal diameter grid and polarity. In this script, the function δ.Tc is for negative polarity and δp.Tc for positive polarity as defined above. The function is computes charging efficiencies on the DMA internal grid δ.dp, which is set by the mobility range and the number bins.\n",
    "\n",
    "For $k \\ge \\pm 3$, the formula from the TSI manual is used:\n",
    "<center> $T_c(k) = \\frac{e}{\\sqrt{4\\pi^2\\epsilon D_pk_bT}} \\exp \\left( \\frac{-\\frac{\\left[|k| - 2\\pi\\epsilon D_pk_bT \\ln(0.875)\\right]^2}{e^2}}{ \\frac{4\\pi\\epsilon D_pk_bT}{e^2}} \\right) $</center>\n",
    "where $e$ is the elementary charge and $\\epsilon$ is the dielectric constant for air.\n",
    "\n",
    "<div class=\"alert alert-warning\">\n",
    "The charge efficiency function is included in the \"DMA grid\" δ\n",
    "\n",
    "- ```δ.Tc(k,dp)``` where k is the number of charges and dp is the diameter in units of nm. \t\n",
    "</div>"
   ]
  },
  {
   "cell_type": "code",
   "execution_count": null,
   "metadata": {},
   "outputs": [],
   "source": [
    "# The fraction of charges carrying 1 charge. The polarity is defined by the DMA Λ that was used to \n",
    "# setup the grid δ \n",
    "δ.Tc(1,100.0) "
   ]
  },
  {
   "cell_type": "markdown",
   "metadata": {},
   "source": [
    "<div class=\"alert alert-info\">\n",
    "\n",
    "Write a one line expression that computes the fraction of particles carrying 3 charges  along the internal diameter grid of your DMA myδ\n",
    "\n",
    "</div>"
   ]
  },
  {
   "cell_type": "code",
   "execution_count": null,
   "metadata": {},
   "outputs": [],
   "source": []
  },
  {
   "cell_type": "markdown",
   "metadata": {},
   "source": [
    "<b> Figure. </b> Size dependence of fractional charging efficiency of through the bipolar charger for 1-4 charges."
   ]
  },
  {
   "cell_type": "markdown",
   "metadata": {},
   "source": [
    "## 3.6 Particle Losses/Detector Efficiency"
   ]
  },
  {
   "cell_type": "code",
   "execution_count": null,
   "metadata": {},
   "outputs": [],
   "source": [
    "play(\"Audio/transfer-function1.ogg\")"
   ]
  },
  {
   "cell_type": "markdown",
   "metadata": {},
   "source": [
    "Some fraction of particles is lost during transit. Particles may not be detected at 100% efficiency. These losses can be described using a single loss function (or a series of loss functions). Here we consider just the penetration efficiency through the DMA as computed based on the parameterization of  Reineking & Porstendörfer (1986).\n",
    "\n",
    "<div class=\"alert alert-warning\">\n",
    "The loss function is Tl included in the \"DMA grid\" δ\n",
    "\n",
    "- ```δ.Tl(Λ,dp)``` where Λ is the DMA configuration (flow rate dependency and effective length) and dp is the diameter in units of nm. \t\n",
    "</div>"
   ]
  },
  {
   "cell_type": "code",
   "execution_count": null,
   "metadata": {},
   "outputs": [],
   "source": [
    "include(\"Scripts/pretty_plot_loss_fraction.jl\")"
   ]
  },
  {
   "cell_type": "markdown",
   "metadata": {},
   "source": [
    "<b> Figure. </b> Size dependence of penetration efficiency through the DMA for leff = 13 m and two flow rates."
   ]
  },
  {
   "cell_type": "markdown",
   "metadata": {},
   "source": [
    "## 4. Transmission through the DMA at Constant Voltage"
   ]
  },
  {
   "cell_type": "code",
   "execution_count": null,
   "metadata": {},
   "outputs": [],
   "source": [
    "play(\"Audio/transfer-function1.ogg\")"
   ]
  },
  {
   "cell_type": "markdown",
   "metadata": {},
   "source": [
    "The Figure shows a schematic instrument setup with an array of detectors. The DMA is operated in classifier mode and set to a single voltage. The mobility classified particles are then passed to one or more detectors. \n",
    "<img src=\"Figures/nbs2_f01.png\" width=\"350\" align = \"middle\">\n",
    "<figcaption><b> Figure. </b> Illustration of the combined transfer function through the DMA. </figcaption> \n",
    "\n",
    "\n",
    "<div class=\"alert alert-warning\">\n",
    "The net transmission function T describes transmission through the DMA, including the charge filter, the DMA transfer function, and the DMA transmission efficiency. \n",
    "\n",
    "```julia\n",
    "T(zˢ,k,Λ,δ) = δ.Ω(Λ,δ.Z,zˢ/k).*δ.Tc(k,δ.Dp).*δ.Tl(Λ,δ.Dp)\n",
    "```\n",
    "\n",
    "where Λ is the DMA configuration, δ the DMA grid, zˢ is the z-star selected by the DMA, and k is the number of charges. \t\n",
    "</div>\n",
    "\n"
   ]
  },
  {
   "cell_type": "code",
   "execution_count": null,
   "metadata": {},
   "outputs": [],
   "source": [
    "# Define the mobility\n",
    "zˢ = dtoz(Λ, 100*1e-9)     \n",
    "\n",
    "# Define the DMA transmission function\n",
    "T(zˢ,k,Λ,δ) = δ.Ω(Λ,δ.Z,zˢ/k).*δ.Tc(k,δ.Dp).*δ.Tl(Λ,δ.Dp)\n",
    "\n",
    "# Plot the result\n",
    "plot(x = δ.Dp, y = T(zˢ,1,Λ,δ), Geom.step, Guide.xlabel(\"Apparent + 1 Mobility Diameter (nm)\"), Guide.ylabel(\"Fraction (-)\"))"
   ]
  },
  {
   "cell_type": "markdown",
   "metadata": {},
   "source": [
    "**Figure.** The shape is the transfer function, modulated by losses and charging efficiency and represented at the bin resulution of the DMA grid."
   ]
  },
  {
   "cell_type": "markdown",
   "metadata": {},
   "source": [
    "The transmission function ```T(zˢ,k,Λ,δ)``` represents a vector along the DMA grid that predicts the fraction of particles carrying k charges that transmit if the DMA voltage is set to selected zˢ. It is therefore a vector that is defined along the DMA mobility/diameter grid. For our DMA defined above we had 60 bins."
   ]
  },
  {
   "cell_type": "code",
   "execution_count": null,
   "metadata": {},
   "outputs": [],
   "source": [
    "T(zˢ,1,Λ,δ)"
   ]
  },
  {
   "cell_type": "markdown",
   "metadata": {},
   "source": [
    "## 4.1 Output Distribution from a DMA"
   ]
  },
  {
   "cell_type": "code",
   "execution_count": null,
   "metadata": {},
   "outputs": [],
   "source": [
    "play(\"Audio/transfer-function1.ogg\")"
   ]
  },
  {
   "cell_type": "code",
   "execution_count": null,
   "metadata": {},
   "outputs": [],
   "source": [
    "# Let's make a high resultion grid for visualization purposes (this is slow!))\n",
    "bins,z₁,z₂ = 512, vtoz(Λ,10000), vtoz(Λ,10)    # bins, upper, lower mobility limit\n",
    "δ1 = setupDMA(Λ, z₁, z₂, bins);                # Setup DMA grid"
   ]
  },
  {
   "cell_type": "markdown",
   "metadata": {},
   "source": [
    "<div class=\"alert alert-warning\">\n",
    "    \n",
    "- zˢ is the z-star selected by the DMA\n",
    "- 𝕟ᶜⁿ is an assumed known bimodal lognormal distribution computed on the DMA size grid\n",
    "- ℕ is an array of transmitted mobility distributions carrying k charges\n",
    "- 𝕄 is an array of transmitted apparent mobility distributions carrying k charges\n",
    "- 𝕟ₜ, 𝕞ₜ are the superposition of these distributions\n",
    "</div>\n"
   ]
  },
  {
   "cell_type": "code",
   "execution_count": null,
   "metadata": {},
   "outputs": [],
   "source": [
    "zˢ = dtoz(Λ, 100*1e-9)                                                      # Mobility for 100 nm paticles\n",
    "𝕟ᶜⁿ = DMALognormalDistribution([[900., 40., 1.5], [500., 180., 1.4]], δ1);  # Returns the size distribution \n",
    "ℕ = map(k -> T(zˢ,k,Λ,δ1)*𝕟ᶜⁿ,1:3)                                  # ℕ[k] : Mob. size distribution +k charges\n",
    "𝕄 = map(k -> (ztod(Λ,1,zˢ)/ztod(Λ,k,zˢ))⋅(T(zˢ,k,Λ,δ1)*𝕟ᶜⁿ),1:3)   # 𝕄[k] : App. Mob. distribution +k charges \n",
    "𝕟ₜ, 𝕞ₜ = sum(ℕ), sum(𝕄)\n",
    "\n",
    "include(\"Scripts/pretty_plot_transmission.jl\")"
   ]
  },
  {
   "cell_type": "markdown",
   "metadata": {},
   "source": [
    "<b> Figure. </b> Left: assumed bimodal lognormal size distribution. Middle: monodisperse mobility size distribution plotted against the apparent +1 mobility diameter, defined as the apparent setpoint diameter of the DMA. Dashed line is total number concentration. Right: same as middle panel but plotted\n",
    "versus the mobility diameter.\n",
    "\n",
    "\n",
    "The DMA selects approximately a triangular distribution around mobility centroid $z^s$. The distribution is symmetric when plotted against the log of mobility, but asymmetric when plotted against the log of the apparent +1 mobility diameter because the Cunningham slip flow correction factor applied in the conversion from mobility to diameter is a strong function of particle size. The majority of selected particles are singly charged, but the contribution of multiply charged particles to the total number is not negligible. The mobility distribution has contributions from particles that are at least twice the diameter of the selected centroid diameter. The relative fractions are determined by the equilibrium charge fraction and the number of particles available at each diameter.\n",
    "\n",
    "\n",
    "<div class=\"alert alert-danger\">\n",
    "    \n",
    "The ```map(k->f, 1:3)``` construct sequentially applies values from the array [1,2,3] to k and calls the function f. The output is an array of length 3. Since ```T(zˢ,k,Λ,δ)``` produces a vector, 𝕟ᶜⁿ is a size distribution, and vector * size distribution is a size distribution, the output of\n",
    "    \n",
    "```\n",
    "ℕ = map(k -> T(zˢ,k,Λ,δ)*𝕟ᶜⁿ,1:3) \n",
    "```\n",
    "    \n",
    "is an array of size distributions.\n",
    "</div>"
   ]
  },
  {
   "cell_type": "markdown",
   "metadata": {},
   "source": [
    "<div class=\"alert alert-info\">\n",
    "\n",
    "1. Predict how the number concentration of 𝕄[3] and ℕ[3] will change if the number concentration of the accumulation mode were to decrease, i.e. change from 500 cm-3 to 5 cm-3.\n",
    "\n",
    "2. Change the number concentration in the \n",
    "    ```𝕟ᶜⁿ = DMALognormalDistribution([[900., 40., 1.5], [500., 180., 1.4]], δ)```\n",
    "    statement in the cell above and rerun the cell with CTRL-Enter. Compare with your prediction.\n",
    "\n",
    "</div>"
   ]
  },
  {
   "cell_type": "markdown",
   "metadata": {},
   "source": [
    "## 4.2 Example Application: Calibrate a Particle into Liquid Sampler"
   ]
  },
  {
   "cell_type": "code",
   "execution_count": null,
   "metadata": {},
   "outputs": [],
   "source": [
    "play(\"Audio/transfer-function1.ogg\")"
   ]
  },
  {
   "cell_type": "markdown",
   "metadata": {},
   "source": [
    "### Number Concentration Measured by the CPC\n",
    "\n",
    "The number concentration reported by the CPC is the integral over the DMA output size distribution 𝕟ₜ. Since the size distribution data type includes the number concentration in each bin, it is simply the sum of number concentration is each bin\n",
    "\n",
    "```julia\n",
    "Ncpc = sum(𝕟ₜ.N)\n",
    "```\n",
    "\n",
    "Alternatively the number concentration can be computed from the individual distributions ℕ[1], ℕ[2], ℕ[3] and so forth. This can be accomplished using a simple function.\n",
    "\n",
    "```julia\n",
    "Number(ℕ) = sum(map(𝕟 -> sum(𝕟.N), ℕ))\n",
    "```"
   ]
  },
  {
   "cell_type": "code",
   "execution_count": null,
   "metadata": {},
   "outputs": [],
   "source": [
    "Number(ℕ) = sum(map(𝕟 -> sum(𝕟.N), ℕ))\n",
    "Ncpc1 = sum(𝕟ₜ.N)\n",
    "Ncpc2 = Number(ℕ)\n",
    "println(Ncpc1, \"                 \", Ncpc2)  # Show that the two methods produce the same result are the same"
   ]
  },
  {
   "cell_type": "markdown",
   "metadata": {},
   "source": [
    "### Naive Mass Estimate\n",
    "\n",
    "The DMA is set to select a single apparent +1 mobility size, e.g. 100 nm in the example above. If we ignore the contribution of multiply charged particles, the mass selected is \n",
    "\n",
    "$M=\\frac{\\pi}{6}D_{p}^{3}N\\rho_{p}$\n",
    "\n",
    "where $\\rho_{p}$ is the particle density. \n",
    "\n",
    "<div class=\"alert alert-warning\">\n",
    "Note that for mass calculations, if the density is $1000\\; kg\\;m^{-3} = 1\\; g\\; cm^{-3}$, the volume concentration in $\\mu m^{3}\\;cm^{-3}$ equals to the mass concentration in $\\mu g\\;m^{-3}$. This is an important conversion and explains why $\\mu m^{3}\\;cm^{-3}$ is the preferred unit for volume concentration.\n",
    "</div>"
   ]
  },
  {
   "cell_type": "code",
   "execution_count": null,
   "metadata": {},
   "outputs": [],
   "source": [
    "NaiveMass(Dp, ρp) = pi/6*Dp^3.0*sum(𝕟ₜ.N)  # Diameter in micron, and density in g cm-3\n",
    "NaiveMass(0.1, 1.72)                       # Naive mass concentration in mug m-3"
   ]
  },
  {
   "cell_type": "markdown",
   "metadata": {},
   "source": [
    "### Mass Accounting for Multiply Charged Particles\n",
    "\n",
    "To compute the correct mass we must integrate over the distributions ℕ[1], ℕ[2], ℕ[3] and so forth, as we did with number, and weigh them by Dp^3. Because of the Dp^3 weighing the contribution of +2 and +3 charged particles to selected mass can be substantial. Depending on the shape of the size distribution"
   ]
  },
  {
   "cell_type": "code",
   "execution_count": null,
   "metadata": {},
   "outputs": [],
   "source": [
    "# Diameter in micron, and density in g cm-3\n",
    "Mass(ℕ, ρp) = sum(map(𝕟 -> sum(pi ./ 6 .* (𝕟.Dp .* 1e-3).^3.0 .* 𝕟.N .* ρp), ℕ))\n",
    "\n",
    "println(\"Naive mass concentration   \", NaiveMass(0.1, 1.72))\n",
    "println(\"Correct mass concentration  \", Mass(ℕ, 1.72))"
   ]
  },
  {
   "cell_type": "markdown",
   "metadata": {},
   "source": [
    "\n",
    "<div class=\"alert alert-info\">\n",
    "\n",
    "1. Predict how the ratio of naive mass concentration to correct mass concentration will change if the number concentration of the accumulation mode were to decrease, i.e. change from 500 cm-3 to 5 cm-3. (Same exercise as previously.)\n",
    "\n",
    "2. Change the number concentration in the \n",
    "    ```𝕟ᶜⁿ = DMALognormalDistribution([[900., 40., 1.5], [500., 180., 1.4]], δ)```\n",
    "statement in the cell above and rerun all of the cells with CTRL-Enter. Compare with your prediction.\n",
    "\n",
    "</div>"
   ]
  },
  {
   "cell_type": "markdown",
   "metadata": {},
   "source": [
    "<div class=\"alert alert-success\">\n",
    "\n",
    "**You have met the following learning objective:**\n",
    "    \n",
    "- Compute the moments of output from a DMA operated at a single voltage.\n",
    "    \n",
    "</div>"
   ]
  },
  {
   "cell_type": "markdown",
   "metadata": {},
   "source": [
    "## 4.3 The DMA Response Function (Fredholm Integral)"
   ]
  },
  {
   "cell_type": "code",
   "execution_count": null,
   "metadata": {},
   "outputs": [],
   "source": [
    "play(\"Audio/transfer-function1.ogg\")"
   ]
  },
  {
   "cell_type": "markdown",
   "metadata": {},
   "source": [
    "As worked out above, the net transmission function T describes transmission through the DMA, including the charge filter, the DMA transfer function, and the DMA transmission efficiency. \n",
    "\n",
    "```julia\n",
    "T(zˢ,k,Λ,δ) = δ.Ω(Λ,δ.Z,zˢ/k).*δ.Tc(k,δ.Dp).*δ.Tl(Λ,δ.Dp)\n",
    "```\n",
    "\n",
    "Evaluating for all charges and integrating over size yields the total number concentration measured by the CPC. \n",
    "\n",
    "```julia\n",
    "ℕ = map(k -> T(zˢ,k,Λ,δ1)*𝕟ᶜⁿ,1:k)\n",
    "𝕟ₜ = sum(ℕ)\n",
    "```\n",
    "\n",
    "Formally, the response in channel i (corresponding to a transmission through the DMA at a single voltage) is given by the Fredholm convolution integral \n",
    "\n",
    " <center> $ R_i = \\int_{z_a}^{z_b} \\sum_{k=1}^n \\Omega(z,Z_{i,k}^s)T_c(D[z,1])T_l(D[z,1])\\frac{dN}{d\\ln D}\\frac{d \\ln D}{dz}dz \\;\\;\\;\\;\\;\\;\\ i = 1,2...,n$   </center>\n",
    " \n",
    "The integral is performed over the limits $z_a$ and $z_b$, which corresponds to the upper and lower mobility limit set by the voltage range used to operate the DMA. The function $\\frac{dN}{d\\ln D}\\frac{d\\ln D}{dz}dz$ evaluates to the number concentration of particles that lie in the interval $[z,z + dz]$. Note that $D[z,1]$ is used in the charge filter and loss function since the integral is applied over the transform of the selected centroid mobility $Z_{i,k}^s$ (see above). $Z$ is the mobility vector of the grid and the subscript $i$ denotes the response channel. The convolution integral can be discretized:  <br><br>\n",
    "\n",
    " <center> $ R_i = \\sum_{j=1}^n \\left [ \\sum_{k=1}^m \\Omega(Z_j,Z_{i,k}^s)T_c(D[Z_j,1])T_l(D[Z_j,1])N(Z_j) \\right] $</center> <br>\n",
    "\n",
    "$N(Z_j)$ is the the number concentration of particles in the $j^{th}$ bin, $i = 1...n$\n",
    "are indices the observed instrument channel, $j = 1...n$ are indices of the physical size bins, and $k = 1...m$ are indices of charges carried by the particle. Here it is assumed that $\\Omega(Z_j,Z_{i,k}^s)$ can be approximated being constant over the bin $[Ze_{j},Ze_{j+1}]$, which is only true if a sufficiently large number of size bins is used. The discretized version represents a set of $n$ equations that can be written in matrix form <br><br>\n",
    "\n",
    "<center> \n",
    "$ \\begin{bmatrix}\n",
    "       R_1    \\\\\n",
    "       \\vdots \\\\        \n",
    "       R_n\n",
    "\\end{bmatrix} =\n",
    "\\begin{pmatrix}\n",
    "  \\sum_{k=1}^m \\Omega(Z_1,Z_{1,k}^s)T_c(D[Z_1,1])T_l(D[Z_1,1])  & \\cdots & \\sum_{k=1}^m \\Omega(Z_n,Z_{1,k}^s)T_c(D[Z_n,1])T_l(D[Z_n,1]) \\\\\n",
    "  \\vdots  & \\ddots  & \\vdots  \\\\\n",
    "  \\sum_{k=1}^m \\Omega(Z_1,Z_{n,k}^s)T_c(D[Z_1,1])T_l(D[Z_1,1])  & \\cdots & \\sum_{k=1}^m \\Omega(Z_n,Z_{n,k}^s)T_c(D[Z_n,1])T_l(D[Z_n,1])  \n",
    "\\end{pmatrix}\n",
    "\\begin{bmatrix}\n",
    "       N_1    \\\\[0.3em]\n",
    "       \\vdots \\\\[0.3em]        \n",
    "       N_n\n",
    "\\end{bmatrix}\n",
    "$</center> <br><br>\n",
    "\n",
    "\n",
    "\n",
    "<div class=\"alert alert-warning\">\n",
    "\n",
    "The discrete version of the Fredholm equation can thus be cast as the following\n",
    "    \n",
    "   <center> $R = \\mathbf{A}N$ </center>\n",
    "\n",
    "where $R$ is the response vector, $\\mathbf{A}$ is the convolution matrix, and $N$ is the discretized true number concentration.\n",
    "</div>\n",
    "\n",
    " \n",
    "\n",
    "\n",
    "<div class=\"alert alert-danger\">\n",
    "    \n",
    "    \n",
    "Note how the terms comprising the convolution matrix \n",
    "    \n",
    "   <center> $ \\Omega(Z_1,Z_{1,k}^s)T_c(D[Z_1,1])T_l(D[Z_1,1]) $ </center>\n",
    "    \n",
    "are the transmission function defined in code\n",
    "    \n",
    "```julia\n",
    "T(zˢ,k,Λ,δ) = δ.Ω(Λ,δ.Z,zˢ/k).*δ.Tc(k,δ.Dp).*δ.Tl(Λ,δ.Dp)\n",
    "```\n",
    "</div>"
   ]
  },
  {
   "cell_type": "markdown",
   "metadata": {},
   "source": [
    "## 4.4 Computing the Convolution Integral"
   ]
  },
  {
   "cell_type": "code",
   "execution_count": null,
   "metadata": {},
   "outputs": [],
   "source": [
    "play(\"Audio/transfer-function1.ogg\")"
   ]
  },
  {
   "cell_type": "markdown",
   "metadata": {},
   "source": [
    "\n",
    "\n",
    "\n",
    "<div class=\"alert alert-warning\">\n",
    "    \n",
    " The convolution integra can be constructed using the following expression. Admittedly, this code is a bit cryptic. Please see Notebook S2 in Petters (2018) if you are curious why this line solves the Fredholm equation. \n",
    "\n",
    "    \n",
    "```julia\n",
    "𝐀 = (hcat(map(zˢ->Σ(k->T(zˢ,k,Λ,δ),Λ.m),δ.Z)...))'\n",
    "```\n",
    "    \n",
    "</div>\n",
    "\n",
    "<div class=\"alert alert-danger\">\n",
    "\n",
    "Note that to evaluate this expression, the function T(zˢ,k,Λ,δ) has to be defined and the DMA has to be configured through Λ (flow rates, geometry) and δ (voltage range, number of bins). The matrix 𝐀 is n x n where n is the number of bins.\n",
    "</div>"
   ]
  },
  {
   "cell_type": "code",
   "execution_count": null,
   "metadata": {},
   "outputs": [],
   "source": [
    "# Here is how to compute the convolution matrix. The time to compute the matrix scales with the number of bins\n",
    "T(zˢ,k,Λ,δ) = δ.Ω(Λ,δ.Z,zˢ/k).*δ.Tc(k,δ.Dp).*δ.Tl(Λ,δ.Dp)\n",
    "𝐀 = (hcat(map(zˢ->Σ(k->T(zˢ,k,Λ,δ),Λ.m),δ.Z)...))'"
   ]
  },
  {
   "cell_type": "markdown",
   "metadata": {},
   "source": [
    "<div class=\"alert alert-info\">\n",
    "\n",
    "Write and expression that computes the convolution matrix for your DMA, defined as myΛ and myδ\n",
    "\n",
    "</div>"
   ]
  },
  {
   "cell_type": "code",
   "execution_count": null,
   "metadata": {},
   "outputs": [],
   "source": []
  },
  {
   "cell_type": "markdown",
   "metadata": {},
   "source": [
    "Note that you can not only define your own instrument configuration, but also change the convolution terms. For example, you can omit the charge filter, you can omit the transmission function through the DMA. In practice, these are just short computer functions and you can replace them with your own as needed. For example you swap out the transfer function to a custom version, or add a function that describes the detetector efficiency.\n",
    "\n",
    "<div class=\"alert alert-info\">\n",
    "\n",
    "Write and expression that computes the convolution matrix for your DMA, defined as myΛ and myδ, but without accounting for transmission efficiency through the DMA.\n",
    "\n",
    "</div>"
   ]
  },
  {
   "cell_type": "code",
   "execution_count": null,
   "metadata": {},
   "outputs": [],
   "source": []
  },
  {
   "cell_type": "markdown",
   "metadata": {},
   "source": [
    "<div class=\"alert alert-success\">\n",
    "\n",
    "**You have met the following learning objective:**\n",
    "    \n",
    "- Compute the convolution matrix for DMAs with corresponding to a custom instrument.\n",
    "    \n",
    "</div>"
   ]
  },
  {
   "cell_type": "markdown",
   "metadata": {},
   "source": [
    "# 5. Inversion of Size Distribution Data"
   ]
  },
  {
   "cell_type": "code",
   "execution_count": null,
   "metadata": {},
   "outputs": [],
   "source": [
    "play(\"Audio/transfer-function1.ogg\")"
   ]
  },
  {
   "cell_type": "markdown",
   "metadata": {},
   "source": [
    "The response function can be computed from the convolution matrix and the known true size distribution\n",
    "\n",
    "<img src=\"Figures/nbs2_f02.png\" width=\"750\" align = \"middle\">\n",
    "<b> Figure 1. </b> Convolution of true size distribution resulting in the response vector. <br> <br>\n",
    "\n",
    "<div class=\"alert alert-warning\">\n",
    "\n",
    "In the section on size distribution arithmetic I included the operation matrix * size distribution. Thus we can conveniently write \n",
    "\n",
    "𝕣 = 𝐀*𝕟\n",
    "\n",
    "to compute the response function\n",
    "    \n",
    "</div>"
   ]
  },
  {
   "cell_type": "code",
   "execution_count": null,
   "metadata": {},
   "outputs": [],
   "source": [
    "# Here is a simple example\n",
    "𝕟 = DMALognormalDistribution([[400, 30, 1.2],[500, 110, 1.7]], δ)\n",
    "𝕣 = 𝐀 * 𝕟"
   ]
  },
  {
   "cell_type": "code",
   "execution_count": null,
   "metadata": {},
   "outputs": [],
   "source": [
    "include(\"Scripts/pretty_plot_response_function.jl\")"
   ]
  },
  {
   "cell_type": "markdown",
   "metadata": {},
   "source": [
    "**Figure.** True size distribution and DMA response function."
   ]
  },
  {
   "cell_type": "markdown",
   "metadata": {},
   "source": [
    "## 5.1 Least-Squares Inversion"
   ]
  },
  {
   "cell_type": "code",
   "execution_count": null,
   "metadata": {},
   "outputs": [],
   "source": [
    "play(\"Audio/transfer-function1.ogg\")"
   ]
  },
  {
   "cell_type": "markdown",
   "metadata": {},
   "source": [
    "<div class=\"alert alert-warning\">\n",
    "\n",
    "The response function is measured. The number concentration can be found through a matrix inversion <br><br>\n",
    "    \n",
    "    \n",
    "<center> $ \\rm{𝕟} = \\bf{A}^{-1}\\rm{𝕣}$ </center><br>\n",
    "This simple inversion approach can be sufficient in some cases, However, even seemingly small noise  is amplified leading to unusable estimates of $\\rm{𝕟}$ (e.g., Kandlikar and Ramachandran, 1999). \n",
    "    \n",
    "</div>"
   ]
  },
  {
   "cell_type": "code",
   "execution_count": null,
   "metadata": {},
   "outputs": [],
   "source": [
    "include(\"Scripts/noise_app.jl\")"
   ]
  },
  {
   "cell_type": "markdown",
   "metadata": {},
   "source": [
    "**Figure.** Influence of measurement noise on the least-squares solution.\n",
    "\n",
    "<div class=\"alert alert-danger\">\n",
    "    \n",
    "The solution is often dominated by contributions from data errors and rounding errors. Measurement noise is amplified in the inversion and the simple inverse produces unusable results. Measurement noise increases with increasing binsize and decreasing sample flow rate. The interactive applet demonstrates how these factors influence the inverted size distribution.\n",
    "    \n",
    "</div>\n",
    "\n",
    "**Measurement noise:** Typically a condensation particle counter is used to measure the resonse function. Noise in the condensation particle counter is mostly from counting statistics. The Poisson counting statistic depends on the number of counts per bin, and thus the sample flow rate and integration time per bin. In the app below the scan time for the entire distribution is fixed to 2 min. Both the number of bins and the sample flow rate influence the measurement noise. \"Noise free\" CPC means that there is no counting error in the CPC.\n",
    "\n",
    "<div class=\"alert alert-info\">\n",
    "\n",
    "1. Predict how changing total number concentration, CPC flow rate, and number of bins will influence the noise in the inverted size distribution.\n",
    "    \n",
    "2. Use the applet above to verify or falsify your prediction.\n",
    "\n",
    "</div>\n",
    "\n",
    "<div class=\"alert alert-success\">\n",
    "   \n",
    "**You met the following learning objective**\n",
    "    \n",
    "- Evaluate how measurement noise influences the least-squares inversion scheme.\n",
    "    \n",
    "</div>"
   ]
  },
  {
   "cell_type": "markdown",
   "metadata": {},
   "source": [
    "## 5.2 Tikhonov Regularization"
   ]
  },
  {
   "cell_type": "code",
   "execution_count": null,
   "metadata": {},
   "outputs": [],
   "source": [
    "play(\"Audio/transfer-function1.ogg\")"
   ]
  },
  {
   "cell_type": "markdown",
   "metadata": {},
   "source": [
    "### 5.2.1 Least-Squares Inversion\n",
    "\n",
    "Another way to look at the inversion described above is to cast the problem as a general least-squares problem\n",
    "\n",
    "$L_1 = \\left\\lVert \\bf{A}\\rm{𝕟} - \\rm{𝕣}\\right\\rVert_2$ <br>\n",
    "\n",
    "where $L_1$ is the Euclidian norm of the residual. The optimal inverse solution is defined such that $L_1^2$ is minimized.\n",
    "\n",
    "$𝕟_{inv} = \\arg \\min\\{\\left\\rVert\\bf{A}\\rm{𝕟}-\\rm{𝕣}\\right\\rVert_2^2$}\n",
    "\n",
    "$ \\rm{𝕟} = \\bf{A}^{-1}\\rm{𝕣}$ is the analytical solution that minimizes $L_1$. \n",
    "\n",
    "If the matrix $\\bf{A}$ is rank deficient and not invertible the pseudo-inverse will yield the solution with the lowest $L_1$ norm\n",
    "\n",
    "$\\rm{𝕟} = \\bf{({A^TA})^{-1}A^T} \\rm{𝕣}$ \n",
    "\n",
    "<div class=\"alert alert-warning\">\n",
    "\n",
    "Noisy least-square inverse solutions have a large residual error and thus a large $L_1$ norm.\n",
    "    \n",
    "</div>\n",
    "\n",
    "### 5.2.2 Regularization\n",
    "\n",
    "To filter noise a regularization term is introduced\n",
    "\n",
    "$L_2 = \\left\\lVert\\bf{L}(\\rm{𝕟} - \\rm{𝕟_i})\\right\\rVert_2$\n",
    "\n",
    "where $\\bf{L}$ is a weights matrix and $\\rm{𝕟_i}$ is an initial guess. The $L_2$ norm describes the deviation from a smooth initial guess. The inverse is a solution that balance between the $L_1$ and $L_2$ norms.\n",
    "\n",
    "$𝕟_{inv} = \\arg \\min\\{\\left\\rVert\\bf{A}\\rm{𝕟}-\\rm{𝕣}\\right\\rVert_2^2 + \\lambda^2 \\left\\rVert\\bf{L}(\\rm{𝕟}-\\rm{𝕟_i})\\right\\rVert_2^2$\n",
    "\n",
    " $\\lambda$ is the regularization parameter. Taking $\\bf{L} = \\bf{I}$ (weight matrix equals the identity matrix) and $\\rm{𝕟_i} = \\bf{S}^{-1}\\rm{𝕣}$ as initial guess, the regularized inverse is computed via:\n",
    "\n",
    "$𝕟_{inv} = (\\bf{A}^\\rm{T}\\bf{A} + \\lambda^\\rm{2} \\bf{I})^\\rm{-1}(\\bf{A}^\\rm{T} \\rm{𝕣} + \\lambda^2\\bf{S}^{-1} \\rm{𝕣})$ <br>\n",
    "\n",
    "This is also known as zeroth order Tikhonov regularization, or Phillips–Twomey regularization. \n",
    "\n",
    "\n",
    "<div class=\"alert alert-warning\">\n",
    "\n",
    "The regularization parameter $\\lambda$ \"interpolates\" between the noisy least-square inverse ($\\lambda = 0$) and the initial guess ($\\lambda >> 1$) by placing weights on either the $L_1$ or the $L_2$ norm. \n",
    "    \n",
    "</div>\n",
    "\n",
    "\n",
    "<div class=\"alert alert-danger\">\n",
    "    \n",
    "**To prove that** $𝕟_{inv} = (\\bf{A}^\\rm{T}\\bf{A} + \\lambda^\\rm{2} \\bf{I})^\\rm{-1}(\\bf{A}^\\rm{T} \\rm{𝕣} + \\lambda^2\\bf{S}^{-1} \\rm{𝕣})$ **is the correct solution**\n",
    " \n",
    "- Set $\\bf{L} = \\bf{I}$\n",
    "- Evaluate $\\frac{\\partial}{\\partial \\rm{𝕟}}\\left(\\left\\rVert\\bf{A}\\rm{𝕟}-\\rm{𝕣}\\right\\rVert_2^2 + \\lambda^2 \\left\\rVert\\bf{I}(\\rm{𝕟}-\\rm{𝕟_i})\\right\\rVert_2^2\\right) = 0$\n",
    "- Use http://www.matrixcalculus.org/ to evaluate the derivative if you forgot your symbolic matrix calculus\n",
    "- Substitute $\\rm{𝕟_i} = \\bf{S}^{-1}\\rm{𝕣}$ \n",
    "- Solve for 𝕟\n",
    "   \n",
    "</div>\n",
    "\n",
    "\n",
    "<div class=\"alert alert-info\">\n",
    "\n",
    "Show that for $\\lambda = 0$, the Tikhonov inverse reduces to the regular-least-squares inverse: $\\rm{𝕟} = \\bf{({A^TA})^{-1}A^T} \\rm{𝕣}$.\n",
    "    \n",
    "</div>\n"
   ]
  },
  {
   "cell_type": "code",
   "execution_count": null,
   "metadata": {},
   "outputs": [],
   "source": [
    "play(\"Audio/transfer-function1.ogg\")"
   ]
  },
  {
   "cell_type": "code",
   "execution_count": null,
   "metadata": {},
   "outputs": [],
   "source": [
    "include(\"Scripts/regularization_app1.jl\")"
   ]
  },
  {
   "cell_type": "markdown",
   "metadata": {},
   "source": [
    "**Figure**. Left: Least-squares solution, Middle: Tikhonov with λ selected by the slider, Right: initial guess."
   ]
  },
  {
   "cell_type": "markdown",
   "metadata": {},
   "source": [
    "<div class=\"alert alert-warning\">\n",
    "\n",
    "- Talukdar and Swihart (2003) introduced a clever initial guess: sum the rows of 𝐀 and place the results on the diagonal of 𝐒. The least-squares inverse $\\rm{𝕟_i} = \\bf{S}^{-1}\\rm{𝕣}$ gives excellent results where singly charged particles dominate and slight error where multiply charged particles become important.\n",
    "- The constraint of the initial condition results in a robust inversion.\n",
    "- The algorithm provides a reasonable inversion for a wide range of λ.\n",
    "       \n",
    "</div>"
   ]
  },
  {
   "cell_type": "code",
   "execution_count": null,
   "metadata": {},
   "outputs": [],
   "source": [
    "include(\"Scripts/regularization_app2.jl\")"
   ]
  },
  {
   "cell_type": "markdown",
   "metadata": {},
   "source": [
    "**Figure**. Left: Least-squares solution, Middle: Tikhonov with λ selected by the slider, Right: initial guess."
   ]
  },
  {
   "cell_type": "markdown",
   "metadata": {},
   "source": [
    "<div class=\"alert alert-warning\">\n",
    "\n",
    "- Tikhonov can produce good results even in the absence of a good initial guess.\n",
    "- However, the choice of λ is critical to provide the correct inversion.\n",
    "\n",
    "</div>"
   ]
  },
  {
   "cell_type": "code",
   "execution_count": null,
   "metadata": {},
   "outputs": [],
   "source": [
    "play(\"Audio/transfer-function1.ogg\")"
   ]
  },
  {
   "cell_type": "code",
   "execution_count": null,
   "metadata": {},
   "outputs": [],
   "source": [
    "# Regularization in code\n",
    "λ, bins = 0.3, length(δ.Dp)\n",
    "\n",
    "# some response distribtion\n",
    "𝕣 = DMALognormalDistribution([[400, 30, 1.2],[500, 110, 1.7]], δ)\n",
    "\n",
    "# Identity, Talukda and Swihart, and Convolution Matrices for DMA grid \n",
    "𝐈, 𝐒, 𝐀 =  δ.𝐈, δ.𝐒, δ.𝐀\n",
    "\n",
    "@time 𝕟ⁱⁿᵛ = (𝐀'𝐀 + λ^2𝐈)^(-1) * (𝐀'𝕣  + λ^2 * 𝐒^(-1)*𝕣)"
   ]
  },
  {
   "cell_type": "markdown",
   "metadata": {},
   "source": [
    "<div class=\"alert alert-danger\">\n",
    "\n",
    "- For convenience, the matrices 𝐈, 𝐒, 𝐀 are computed when the DMA grid is initialized. \n",
    "- They are stored in the δ structure together with the other grid variables.\n",
    "       \n",
    "</div>"
   ]
  },
  {
   "cell_type": "markdown",
   "metadata": {},
   "source": [
    "<div class=\"alert alert-success\">\n",
    "   \n",
    "**You met the following learning objective**\n",
    "    \n",
    "- Apply regularization to smooth the least-squares inversion results.\n",
    "    \n",
    "</div>"
   ]
  },
  {
   "cell_type": "markdown",
   "metadata": {},
   "source": [
    "### 5.2.3 Optimal Regularization Parameter (L-curve Method)"
   ]
  },
  {
   "cell_type": "code",
   "execution_count": null,
   "metadata": {},
   "outputs": [],
   "source": [
    "play(\"Audio/transfer-function1.ogg\")"
   ]
  },
  {
   "cell_type": "markdown",
   "metadata": {},
   "source": [
    "The optimal $\\lambda_{opt}$ is found using the L-curve method. The L-curve is defined as a plot of $\\log(L_1)$ vs.  $\\log(L_2)$, where $L_1$ and $L_2$ are obtained for a series of discrete $\\lambda$ values. The $\\lambda_{opt}$ is found at the corner of the L-curve, which is mathematically defined as the point where where the curvature of the L-curve is maximum. Here, the corner of the L-curve is found using the iterative algorithm described in Talukdar and Swihart (2003). The curvature is calculated using Eq. (14) in Hansen (2000), which requires the first and second derivatives of $d\\ln(L_i)^2/d\\lambda$. These derivatives of $d\\ln(L_i)^2/d\\lambda$ are estimated numerically."
   ]
  },
  {
   "cell_type": "code",
   "execution_count": null,
   "metadata": {},
   "outputs": [],
   "source": [
    "include(\"Scripts/lcurve1.jl\")"
   ]
  },
  {
   "cell_type": "markdown",
   "metadata": {},
   "source": [
    "**Figure.** Left: Illustration of the L-curve. Right: Size distribution from inversion using the optimum regularization parameter. The raw distribution corresponds to N = 500 cm-3, Q = 1 L min-1 and 120 bins in the and is the same distribution as in the \"regularization_app1\". \n",
    "\n",
    "<div class=\"alert alert-warning\">\n",
    "\n",
    "- This is the L-curve for the case with strong constraints.\n",
    "       \n",
    "</div>"
   ]
  },
  {
   "cell_type": "code",
   "execution_count": null,
   "metadata": {},
   "outputs": [],
   "source": [
    "include(\"Scripts/lcurve2.jl\")"
   ]
  },
  {
   "cell_type": "markdown",
   "metadata": {},
   "source": [
    "**Figure.** Left: Illustration of the L-curve. Right: Size distribution from inversion using the optimum regularization parameter. The raw distribution corresponds to N = 500 cm-3, Q = 1 L min-1 and 120 bins in the and is the same distribution as in the \"regularization_app2\". \n",
    "\n",
    "<div class=\"alert alert-warning\">\n",
    "\n",
    "- This is the L-curve for if the intial guess is zero.\n",
    "- Tikhonov + L-curve still finds an acceptable solution, though the solution is noiser.\n",
    "       \n",
    "</div>"
   ]
  },
  {
   "cell_type": "markdown",
   "metadata": {},
   "source": [
    "<div class=\"alert alert-success\">\n",
    "   \n",
    "**You met the following learning objective**\n",
    "\n",
    "- Apply the L-curve method to identify the optimal regularization parameter.\n",
    "\n",
    "</div>"
   ]
  },
  {
   "cell_type": "markdown",
   "metadata": {},
   "source": [
    "<div class=\"alert alert-danger\">\n",
    "\n",
    "- The L-curve search is slow due to the need to compute derivatives and rerun the matrix inversion many times. For this specific problem, the initial guess is very good. For \"fast\" inversion and using the initial guess, a characteristic regularization parameter ~0.2 to 0.6 can be used to give adequate results. The value to pick will depend on the CPC and DMA.\n",
    "    \n",
    "- A variety of methods are available to identify the optimal $\\lambda$. These may be consulted if the L-curve minimum approach fails due to difficulty of estimating derivatives.\n",
    "   \n",
    "- Higher order Tikhonov solutions use estimates other then $\\bf{L} = \\bf{I}$.\n",
    "    \n",
    "- The following papers give excellent additional information about Tikhonov regularization: Twomey (1963), Kandlikar & Ramachandran (1999), Hansen (2000), Sipkens et al. (2020).\n",
    "</div>"
   ]
  },
  {
   "cell_type": "markdown",
   "metadata": {},
   "source": [
    "## 5.3 Example Inversion of Real Data"
   ]
  },
  {
   "cell_type": "code",
   "execution_count": null,
   "metadata": {},
   "outputs": [],
   "source": [
    "play(\"Audio/transfer-function1.ogg\")"
   ]
  },
  {
   "cell_type": "code",
   "execution_count": 2,
   "metadata": {},
   "outputs": [
    {
     "data": {
      "text/html": [
       "<table class=\"data-frame\"><thead><tr><th></th><th>Dp</th><th>Rcn</th><th>Rccn</th></tr><tr><th></th><th>Float64</th><th>Float64</th><th>Float64</th></tr></thead><tbody><p>240 rows × 3 columns</p><tr><th>1</th><td>11.23</td><td>2.16012</td><td>0.0</td></tr><tr><th>2</th><td>11.39</td><td>1.56008</td><td>0.0</td></tr><tr><th>3</th><td>11.56</td><td>1.56008</td><td>0.0</td></tr><tr><th>4</th><td>11.73</td><td>0.360015</td><td>0.0</td></tr><tr><th>5</th><td>11.9</td><td>1.32006</td><td>0.0</td></tr><tr><th>6</th><td>12.08</td><td>0.800036</td><td>0.0</td></tr><tr><th>7</th><td>12.26</td><td>0.960045</td><td>0.0</td></tr><tr><th>8</th><td>12.44</td><td>0.600026</td><td>0.0</td></tr><tr><th>9</th><td>12.62</td><td>0.720032</td><td>0.0</td></tr><tr><th>10</th><td>12.81</td><td>0.120005</td><td>0.0</td></tr><tr><th>11</th><td>12.99</td><td>0.120005</td><td>0.0</td></tr><tr><th>12</th><td>13.19</td><td>0.120005</td><td>0.0</td></tr><tr><th>13</th><td>13.38</td><td>0.120005</td><td>0.0</td></tr><tr><th>14</th><td>13.58</td><td>0.0</td><td>0.0</td></tr><tr><th>15</th><td>13.78</td><td>0.120005</td><td>0.0</td></tr><tr><th>16</th><td>13.98</td><td>0.0</td><td>0.0</td></tr><tr><th>17</th><td>14.19</td><td>0.0</td><td>0.0</td></tr><tr><th>18</th><td>14.4</td><td>0.0</td><td>0.0</td></tr><tr><th>19</th><td>14.61</td><td>0.0</td><td>0.0</td></tr><tr><th>20</th><td>14.83</td><td>0.0</td><td>0.0</td></tr><tr><th>21</th><td>15.05</td><td>0.0</td><td>0.0</td></tr><tr><th>22</th><td>15.27</td><td>0.0</td><td>0.0</td></tr><tr><th>23</th><td>15.49</td><td>0.100004</td><td>0.0</td></tr><tr><th>24</th><td>15.72</td><td>0.0</td><td>0.0</td></tr><tr><th>25</th><td>15.96</td><td>0.0</td><td>0.0</td></tr><tr><th>26</th><td>16.19</td><td>0.0</td><td>0.0</td></tr><tr><th>27</th><td>16.43</td><td>0.24001</td><td>0.0</td></tr><tr><th>28</th><td>16.68</td><td>0.360015</td><td>0.0</td></tr><tr><th>29</th><td>16.92</td><td>0.600026</td><td>0.0</td></tr><tr><th>30</th><td>17.17</td><td>1.68009</td><td>0.0</td></tr><tr><th>&vellip;</th><td>&vellip;</td><td>&vellip;</td><td>&vellip;</td></tr></tbody></table>"
      ],
      "text/latex": [
       "\\begin{tabular}{r|ccc}\n",
       "\t& Dp & Rcn & Rccn\\\\\n",
       "\t\\hline\n",
       "\t& Float64 & Float64 & Float64\\\\\n",
       "\t\\hline\n",
       "\t1 & 11.23 & 2.16012 & 0.0 \\\\\n",
       "\t2 & 11.39 & 1.56008 & 0.0 \\\\\n",
       "\t3 & 11.56 & 1.56008 & 0.0 \\\\\n",
       "\t4 & 11.73 & 0.360015 & 0.0 \\\\\n",
       "\t5 & 11.9 & 1.32006 & 0.0 \\\\\n",
       "\t6 & 12.08 & 0.800036 & 0.0 \\\\\n",
       "\t7 & 12.26 & 0.960045 & 0.0 \\\\\n",
       "\t8 & 12.44 & 0.600026 & 0.0 \\\\\n",
       "\t9 & 12.62 & 0.720032 & 0.0 \\\\\n",
       "\t10 & 12.81 & 0.120005 & 0.0 \\\\\n",
       "\t11 & 12.99 & 0.120005 & 0.0 \\\\\n",
       "\t12 & 13.19 & 0.120005 & 0.0 \\\\\n",
       "\t13 & 13.38 & 0.120005 & 0.0 \\\\\n",
       "\t14 & 13.58 & 0.0 & 0.0 \\\\\n",
       "\t15 & 13.78 & 0.120005 & 0.0 \\\\\n",
       "\t16 & 13.98 & 0.0 & 0.0 \\\\\n",
       "\t17 & 14.19 & 0.0 & 0.0 \\\\\n",
       "\t18 & 14.4 & 0.0 & 0.0 \\\\\n",
       "\t19 & 14.61 & 0.0 & 0.0 \\\\\n",
       "\t20 & 14.83 & 0.0 & 0.0 \\\\\n",
       "\t21 & 15.05 & 0.0 & 0.0 \\\\\n",
       "\t22 & 15.27 & 0.0 & 0.0 \\\\\n",
       "\t23 & 15.49 & 0.100004 & 0.0 \\\\\n",
       "\t24 & 15.72 & 0.0 & 0.0 \\\\\n",
       "\t25 & 15.96 & 0.0 & 0.0 \\\\\n",
       "\t26 & 16.19 & 0.0 & 0.0 \\\\\n",
       "\t27 & 16.43 & 0.24001 & 0.0 \\\\\n",
       "\t28 & 16.68 & 0.360015 & 0.0 \\\\\n",
       "\t29 & 16.92 & 0.600026 & 0.0 \\\\\n",
       "\t30 & 17.17 & 1.68009 & 0.0 \\\\\n",
       "\t$\\dots$ & $\\dots$ & $\\dots$ & $\\dots$ \\\\\n",
       "\\end{tabular}\n"
      ],
      "text/plain": [
       "240×3 DataFrame\n",
       "│ Row │ Dp      │ Rcn      │ Rccn     │\n",
       "│     │ \u001b[90mFloat64\u001b[39m │ \u001b[90mFloat64\u001b[39m  │ \u001b[90mFloat64\u001b[39m  │\n",
       "├─────┼─────────┼──────────┼──────────┤\n",
       "│ 1   │ 11.23   │ 2.16012  │ 0.0      │\n",
       "│ 2   │ 11.39   │ 1.56008  │ 0.0      │\n",
       "│ 3   │ 11.56   │ 1.56008  │ 0.0      │\n",
       "│ 4   │ 11.73   │ 0.360015 │ 0.0      │\n",
       "│ 5   │ 11.9    │ 1.32006  │ 0.0      │\n",
       "│ 6   │ 12.08   │ 0.800036 │ 0.0      │\n",
       "│ 7   │ 12.26   │ 0.960045 │ 0.0      │\n",
       "│ 8   │ 12.44   │ 0.600026 │ 0.0      │\n",
       "│ 9   │ 12.62   │ 0.720032 │ 0.0      │\n",
       "│ 10  │ 12.81   │ 0.120005 │ 0.0      │\n",
       "⋮\n",
       "│ 230 │ 513.41  │ 0.840038 │ 0.960384 │\n",
       "│ 231 │ 525.35  │ 0.0      │ 0.60024  │\n",
       "│ 232 │ 537.62  │ 0.0      │ 0.60024  │\n",
       "│ 233 │ 550.23  │ 0.0      │ 0.240096 │\n",
       "│ 234 │ 563.19  │ 0.0      │ 0.60024  │\n",
       "│ 235 │ 576.51  │ 0.0      │ 0.120048 │\n",
       "│ 236 │ 590.21  │ 0.0      │ 0.240096 │\n",
       "│ 237 │ 604.28  │ 0.0      │ 0.0      │\n",
       "│ 238 │ 618.75  │ 0.0      │ 0.0      │\n",
       "│ 239 │ 633.63  │ 0.0      │ 0.0      │\n",
       "│ 240 │ 648.92  │ 0.0      │ 0.0      │"
      ]
     },
     "execution_count": 2,
     "metadata": {},
     "output_type": "execute_result"
    }
   ],
   "source": [
    "using DifferentialMobilityAnalyzers, CSV,  DataFrames, Printf\n",
    "# Load a simple comma delimited text file\n",
    "df = CSV.read(\"example_data.csv\")"
   ]
  },
  {
   "cell_type": "markdown",
   "metadata": {},
   "source": [
    "### DMA configuration\n",
    "The DMA was operated at 20C and 940 hPa, with 4 L min-1 sheath flow, and 1 L min-1 sample flow. The DMA geometry is the TSI cylindrical long column, operated with a positive polarity power supply. The inversion is carried out to 6 charges. Transmission efficiency through the DMA is unity. The DMA is gridded to 120 bins and the grid is spanning the full range of the DMA's capability (10V to 10kV). Use setupSMPS instead of setupDMA if you want to use the SMPS transfer function."
   ]
  },
  {
   "cell_type": "code",
   "execution_count": 16,
   "metadata": {},
   "outputs": [
    {
     "name": "stdout",
     "output_type": "stream",
     "text": [
      "  3.325591 seconds (32.48 M allocations: 856.557 MiB, 3.64% gc time)\n"
     ]
    }
   ],
   "source": [
    "t, p, lpm = 293.15, 940e2, 1.666e-5      # Temperature [K], Pressure [Pa], L min-1 to m3 s-1\n",
    "r₁, r₂, l = 9.37e-3,1.961e-2,0.44369     # DMA geometry [m]\n",
    "thisΛ = DMAconfig(t,p,1lpm,4lpm,r₁,r₂,l,0.0,:+,6,:cylindrical)  \n",
    "#@time thisδ = setupSMPS(Λ, 10000, 10, 120, 1.0)     # Note that this is slower than setupDMA\n",
    "\n",
    "@time thisδ = setupDMA(thisΛ, vtoz(thisΛ,10000), vtoz(thisΛ,10), 120);"
   ]
  },
  {
   "cell_type": "markdown",
   "metadata": {},
   "source": [
    "<div class=\"alert alert-warning\">\n",
    "\n",
    "The @time macro benchmarks the grid creation. Most of the time is spent for precomputing the various inversion matrices. This is a one-time cost.\n",
    "    \n",
    "</div>"
   ]
  },
  {
   "cell_type": "code",
   "execution_count": 4,
   "metadata": {},
   "outputs": [],
   "source": [
    "𝕣 = (df,:Dp,:Rcn,thisδ) |> interpolateDataFrameOntoδ;"
   ]
  },
  {
   "cell_type": "markdown",
   "metadata": {},
   "source": [
    "<div class=\"alert alert-warning\">\n",
    "\n",
    "This function takes the columns :Dp and :Rcn from the DataFrame df and creates a response distribution of the type SizeDistribution that matches the DMA grid thisδ. \n",
    "    \n",
    "</div>"
   ]
  },
  {
   "cell_type": "code",
   "execution_count": 17,
   "metadata": {},
   "outputs": [
    {
     "name": "stdout",
     "output_type": "stream",
     "text": [
      "  0.030522 seconds (65 allocations: 1.433 MiB)\n"
     ]
    }
   ],
   "source": [
    "𝐈, 𝐒, 𝐀, λ =  thisδ.𝐈, thisδ.𝐒, thisδ.𝐀, 0.5\n",
    "@time 𝕟ⁱⁿᵛ¹ = (𝐀'𝐀 + λ^2𝐈)^(-1) * (𝐀'𝕣  + λ^2 * 𝐒^(-1)*𝕣);"
   ]
  },
  {
   "cell_type": "markdown",
   "metadata": {},
   "source": [
    "<div class=\"alert alert-warning\">\n",
    "\n",
    "Regularized inversion with prescribed λ is very fast. \n",
    "    \n",
    "</div>"
   ]
  },
  {
   "cell_type": "code",
   "execution_count": 19,
   "metadata": {},
   "outputs": [
    {
     "name": "stdout",
     "output_type": "stream",
     "text": [
      "  5.494671 seconds (29.06 k allocations: 346.560 MiB, 0.34% gc time)\n"
     ]
    },
    {
     "data": {
      "text/plain": [
       "SizeDistribution(Any[], [663.8450668610888, 633.1437880511719, 604.0899449867386, 576.5907424761283, 550.558342125766, 525.9095988409856, 502.56582017116267, 480.45254567646487, 459.4993434977981, 439.63962143424715  …  14.913517427200246, 14.482624706775722, 14.06440605843314, 13.658475593554542, 13.264459942948104, 12.881997805409158, 12.51073951517362, 12.150346627327536, 11.80049152028906, 11.460857014528372], [648.2824969459034, 618.4168561813783, 590.1516165305455, 563.396495673634, 538.0660333108326, 514.0793394332707, 491.3598640345287, 469.8351854261576, 449.4368143866167, 430.1000115468786  …  15.133840693483398, 14.696462188153262, 14.271955540484456, 13.859928426683652, 13.460001275498547, 13.071806806965347, 12.69498959054076, 12.32920562165532, 11.974121915781371, 11.629416119162498], [0.047351239541361674, 0.04697444727919969, 0.04659037267925715, 0.04619979891584925, 0.04580359814799515, 0.045402715875213495, 0.04499815353613204, 0.044590950171455215, 0.04418216394395533, 0.043772854232624586  …  0.0293348419912648, 0.029318376753182895, 0.02930242209859264, 0.029286961169667124, 0.02927197771478026, 0.029257456064586625, 0.02924338110923816, 0.02922973827664772, 0.02921651351187522, 0.029203693257754567], [0.0, 0.39099714040268047, 3.146787150974636, 5.914236399716549, 11.019053486153995, 27.56355427777647, 27.96471311739985, 62.495779347315796, 85.17447738545076, 78.33431873207422  …  0.0, 0.0, 0.0, 5.1822112753846605, 6.997110665032415, 14.575010157992939, 60.823286872213586, 113.15679435873083, 175.86132178743964, 210.89723149286388], [0.0, 0.018366874558163552, 0.14660998610620612, 0.2732365324077008, 0.5047122978510626, 1.2514602233849106, 1.2583604544506442, 2.7867461828024185, 3.763192723684701, 3.4289167152710385  …  0.0, 0.0, 0.0, 0.1517712203952017, 0.20481926745468015, 0.4264277193383822, 1.7786785583206641, 3.3075434833301496, 5.138054684218966, 6.1589780574272535], :regularized)"
      ]
     },
     "execution_count": 19,
     "metadata": {},
     "output_type": "execute_result"
    }
   ],
   "source": [
    "@time 𝕟ⁱⁿᵛ² = rinv(𝕣.N, thisδ,λ₁=0.1,λ₂=1.0)"
   ]
  },
  {
   "cell_type": "code",
   "execution_count": 15,
   "metadata": {},
   "outputs": [
    {
     "name": "stdout",
     "output_type": "stream",
     "text": [
      "\u001b[32m\u001b[1mStatus\u001b[22m\u001b[39m `~/.julia/environments/v1.4/Project.toml`\n",
      " \u001b[90m [050a7be8]\u001b[39m\u001b[37m DifferentialMobilityAnalyzers v2.0.0 [`~/Documents/Research/DifferentialMobilityAnalyzers.jl`]\u001b[39m\n"
     ]
    }
   ],
   "source": [
    "using Pkg\n",
    "Pkg.status(\"DifferentialMobilityAnalyzers\")"
   ]
  },
  {
   "cell_type": "markdown",
   "metadata": {},
   "source": [
    "<div class=\"alert alert-warning\">\n",
    "\n",
    "Regularized inversion using the L-curve method is slow. This is a recurring cost.\n",
    "    \n",
    "</div>"
   ]
  },
  {
   "cell_type": "markdown",
   "metadata": {},
   "source": [
    "<div class=\"alert alert-danger\">\n",
    "\n",
    "The function rinv performs the inversion using the internal matrices. It is straightforward to use a custom matrix in the inversion. The L-curve inversion is performed in these steps\n",
    "\n",
    "- setup the system\n",
    "- run the lcorner function which finds the corner along the L-curve\n",
    "- compute the size distribution\n",
    "- create a SizeDistribution object\n",
    "    \n",
    "**Let's perform an inversion on our distribution using a custom matrix.**\n",
    "    \n",
    "</div>"
   ]
  },
  {
   "cell_type": "code",
   "execution_count": null,
   "metadata": {},
   "outputs": [],
   "source": [
    "# Transmission function for DMA without loss function - swap out functions for your own case\n",
    "T(zˢ,k,thisΛ,thisδ) = thisδ.Ω(Λ,thisδ.Z,zˢ/k).*thisδ.Tc(k,thisδ.Dp)\n",
    "\n",
    "# Transmission function for thisΛ, thisδ DMA and only using single charged particles\n",
    "my𝐀 = (hcat(map(zˢ->Σ(k->T(zˢ,k,thisΛ,thisδ),1),thisδ.Z)...))'\n",
    "\n",
    "setupRegularization(my𝐀,thisδ.𝐈,𝕣.N,inv(thisδ.𝐒)*𝕣.N) # setup the system of equations to regularize using my𝐀\n",
    "λopt = lcorner(0.01,1.0;n=10,r=3)                    # compute the optimal λ using recursive algorithn\n",
    "N = clean((reginv(λopt, r = :Nλ))[1])                # find the inverted size distribution \n",
    "𝕟ⁱⁿᵛ³ = SizeDistribution([],thisδ.De,thisδ.Dp,thisδ.ΔlnD,N./thisδ.ΔlnD,N,:regularized);"
   ]
  },
  {
   "cell_type": "code",
   "execution_count": null,
   "metadata": {},
   "outputs": [],
   "source": [
    "include(\"Scripts/pretty_plot_data_inversion.jl\")"
   ]
  },
  {
   "cell_type": "markdown",
   "metadata": {},
   "source": [
    "**Figure.** Left: raw response function from data file. Right: results from the three inversions.Note that 𝕟ⁱⁿᵛ³ only considers singly charged particles, thus showing an overestimate."
   ]
  },
  {
   "cell_type": "markdown",
   "metadata": {},
   "source": [
    "### Summary\n",
    "\n",
    "A short script is sufficient to invert raw data from a DMPS or SMPS measurement.\n",
    "\n",
    "```julia\n",
    "# Load a simple comma delimited text file\n",
    "df = CSV.read(\"example_data.csv\")\n",
    "\n",
    "# Setup the DMA\n",
    "t, p, lpm = 293.15, 940e2, 16.66e-5      # Temperature [K], Pressure [Pa], L min-1 to m3 s-1\n",
    "r₁, r₂, l = 9.37e-3,1.961e-2,0.44369     # DMA geometry [m]\n",
    "thisΛ = DMAconfig(t,p,1lpm,4lpm,r₁,r₂,l,0.0,:+,6,:cylindrical)  \n",
    "thisδ = setupDMA(Λ, vtoz(Λ,10000), vtoz(Λ,10), 120)\n",
    "\n",
    "# Interpolate the data onto the DMA grid\n",
    "𝕣 = (df,:Dp,:Rcn,thisδ) |> interpolateDataFrameOntoδ\n",
    "\n",
    "# Fast inversion with prescribed λ\n",
    "𝐈, 𝐒, 𝐀, λ =  thisδ.𝐈, thisδ.𝐒, thisδ.𝐀, 0.5\n",
    "𝕟ⁱⁿᵛ¹ = (𝐀'𝐀 + λ^2𝐈)^(-1) * (𝐀'𝕣  + λ^2 * 𝐒^(-1)*𝕣)\n",
    "\n",
    "# Slow inversion using λopt from the L-curve method\n",
    "𝕟ⁱⁿᵛ² = rinv(𝕣.N, thisδ,λ₁=0.1,λ₂=1.0)\n",
    "```\n",
    "\n",
    "This example is also in a clean notebook: \"Inversion of Size Distribution From Data Example\"\n",
    "\n",
    "\n",
    "<div class=\"alert alert-success\">\n",
    "\n",
    "**You have met the following learning objective.**\n",
    "\n",
    "- Apply the code to invert a DMA response function loaded from a data file.\n",
    "    \n",
    "</div>"
   ]
  },
  {
   "cell_type": "markdown",
   "metadata": {},
   "source": [
    "# 6. Inverting Size-resolved CCN Measurements\n"
   ]
  },
  {
   "cell_type": "code",
   "execution_count": null,
   "metadata": {},
   "outputs": [],
   "source": []
  },
  {
   "cell_type": "markdown",
   "metadata": {},
   "source": [
    "Size resolved CCN measurements have a long history (e.g. Cruz and Pandis, 1997, Snider et al., 2006). Particles are typically dried, charge neutralized, and passed through the DMA. At the exit, the flow is split between a CPC that measures all particles and a CCN counter that measures particles that form cloud droplets at a water supersaturation set by the instrument. In this configuration the DMA voltage can either be stepped or continuously scanned. The ratio of CCN-to-CPC response function is used to determine the fraction of particles that activate at a given diameter. The diameter where 50% of the particles activate is taken to be the activation diameter. <br>\n",
    "\n",
    "<img src=\"Figures/nbs7_f01.png\" width=\"350\">\n",
    "<figcaption><b> Figure. </b> Schematic of instrument setup for size resolved CCN measurements.  </figcaption> \n",
    "\n",
    "The activation of particles into cloud droplets is proportional to the volume of solute in the particle. Therefore, larger multiply charged particles activate first. This leads to a bias in the inferred D50 diameter if the activated fraction is computed from the ratio of the raw response functions (Petters et al., 2007, 2009)."
   ]
  },
  {
   "cell_type": "code",
   "execution_count": null,
   "metadata": {},
   "outputs": [],
   "source": [
    "# Load a simple comma delimited text file - file contains :Dp, :Rcn, :Rccn\n",
    "# Note that this is the same DMA/size distribution defined by this DMA\n",
    "df = CSV.read(\"example_data.csv\")\n",
    "𝕣ᶜⁿ = (df,:Dp,:Rcn,thisδ) |> interpolateDataFrameOntoδ        # CN response distribution\n",
    "𝕣ᶜᶜⁿ = (df,:Dp,:Rccn,thisδ) |> interpolateDataFrameOntoδ;     # CCN response distribution"
   ]
  },
  {
   "cell_type": "markdown",
   "metadata": {},
   "source": [
    "<div class=\"alert alert-danger\">\n",
    "    \n",
    "Thresholding is performed for bins with low counts, which results in NaN and Inf in 𝕒𝕗. This is necessary because at low concentrations a bin may have zero or very low concentration, resulting in unrealistic or NaN/InF values in the activated fraction array. Thus if counts/concentration is below the threhold, the activated fraction is forced to one for large diameters and zero for small diameters. The noise threshold may need to be adjusted for different datasets.\n",
    "    \n",
    "</div>"
   ]
  },
  {
   "cell_type": "code",
   "execution_count": null,
   "metadata": {},
   "outputs": [],
   "source": [
    "function threshold!(𝕟::SizeDistribution, c::Float64, n1::Float64, n2::Float64)\n",
    "   N = 𝕟.N  \n",
    "   S = 𝕟.S\n",
    "   S[(N .<= c) .& (𝕟.Dp .> 150)] .= n2\n",
    "   N[(N .<= c) .& (𝕟.Dp .> 150)] .= n2\n",
    "   S[(N .<= c) .& (𝕟.Dp .< 150)] .= n1\n",
    "   N[(N .<= c) .& (𝕟.Dp .< 150)] .= n1\n",
    "   𝕟.N = N\n",
    "end\n",
    "\n",
    "threshold!(𝕣ᶜⁿ, 0.1, 0.1, 0.1)\n",
    "threshold!(𝕣ᶜᶜⁿ, 0.1, 0.0, 0.1)\n",
    "\n",
    "𝕒𝕗 = 𝕣ᶜᶜⁿ/𝕣ᶜⁿ;"
   ]
  },
  {
   "cell_type": "code",
   "execution_count": null,
   "metadata": {},
   "outputs": [],
   "source": [
    "include(\"Scripts/pretty_plot_ccn_data.jl\")"
   ]
  },
  {
   "cell_type": "markdown",
   "metadata": {},
   "source": [
    "**Figure**. Left: Raw CN and CCN response functions. Right: activated fraction defined as the ratio of the response functions. The figure  shows  a shoulder of particles that appear to activating early. These are +2 charged particles transmitting through the DMA that influence of +2 the observed ratio 𝕣ᶜᶜⁿ./𝕣ᶜⁿ."
   ]
  },
  {
   "cell_type": "markdown",
   "metadata": {},
   "source": [
    "## 6.1 Modeling the Actived Fraction\n",
    "\n",
    "The CCN transmission function is modelded using a cumulative Gauss integral <br>\n",
    "<center> $T_{af} = \\frac{1}{2}\\left[1 + \\mathrm{erf}\\left(\\frac{d-\\mu}{\\sigma}\\right) \\right] $ </center>\n",
    "This function is applied to the mobility size distribution. Then the response function is computed. Empirically, activated fraction can be computed using from the ratio of size distributions and response functions. "
   ]
  },
  {
   "cell_type": "code",
   "execution_count": null,
   "metadata": {},
   "outputs": [],
   "source": [
    "# CCN activation unction \n",
    "#  - 𝕟 is a size distribution from which the diameter vector is used\n",
    "#  - μ is the activation diameter\n",
    "#  - σ is the spread\n",
    "Taf(𝕟,μ,σ) = @. 0.5 * (1.0 + erf((𝕟.Dp - μ)./(sqrt(2.0σ))))"
   ]
  },
  {
   "cell_type": "markdown",
   "metadata": {},
   "source": [
    "\n",
    "## 6.2 Fitting Model\n",
    "There are two ways to fit the response data. Possibility one is to compute the activated fraction from the inverted data and then fit the ratio to the activation model to find the μ,σ that best describes the data. An alternative method is to compute the regularized inverse from the the CN response function and use it to predict the ratio of 𝕣ᶜⁿ./𝕣ᶜᶜⁿ. In this case the model is\n",
    "<center> $𝕟^{\\mathrm{cn}} = (\\bf{A}^\\rm{T}\\bf{A} + \\lambda^\\rm{2} \\bf{I})^\\rm{-1}(\\bf{A}^\\rm{T} \\rm{𝕣^{\\mathrm{cn}}} - \\lambda^2\\bf{S}^{-1} \\rm{𝕣^{\\mathrm{cn}}})$ </center>\n",
    "<center> $\\left( \\frac{𝕣^{\\mathrm{cn}}}{𝕣^{\\mathrm{cn}}} \\right)_{\\mathrm{model}} = \\frac{\\mathbf{A}[T_{\\mu,\\sigma}\\; .*\\; 𝕟^{\\mathrm{cn}}]}{\\mathbf{A}𝕟^{\\mathrm{cn}}}$ </center>\n",
    "This mirrors the approach in Petters et al. (2007).\n",
    "\n",
    "The model + fit can be solved in few lines of code.\n",
    "```julia\n",
    "𝕟ᶜⁿ = (𝐀'𝐀 + λ^2𝐈)^(-1) * (𝐀'𝕣ᶜⁿ  + λ^2 * 𝐒^(-1)*𝕣ᶜⁿ)\n",
    "model(x,p) = (δ.𝐀*(𝕟ᶜⁿ.N.*Taf(𝕟ᶜⁿ, p[1], p[2])))./(δ.𝐀*𝕟ᶜⁿ.N)\n",
    "fit = curve_fit(model, δ.Dp, 𝕣ᶜᶜⁿ.N./𝕣ᶜⁿ.N, [65.0, 3.0])\n",
    "```\n",
    "\n",
    "<div class=\"alert alert-danger\">\n",
    "    \n",
    "Note that least square fitting library is not setup to take the SizeDistribution data type, and thus the operation is performed on the number field of these objects. \n",
    "    \n",
    "</div>"
   ]
  },
  {
   "cell_type": "code",
   "execution_count": null,
   "metadata": {},
   "outputs": [],
   "source": [
    "𝐈, 𝐒, 𝐀, λ =  thisδ.𝐈, thisδ.𝐒, thisδ.𝐀, 0.5\n",
    "𝕟ᶜⁿ = (𝐀'𝐀 + λ^2𝐈)^(-1) * (𝐀'𝕣ᶜⁿ  + λ^2 * 𝐒^(-1)*𝕣ᶜⁿ)\n",
    "model(x,p) = (𝐀 * (𝕟ᶜⁿ.N .* Taf(𝕟ᶜⁿ, p[1], p[2])))./( 𝐀 * 𝕟ᶜⁿ.N)\n",
    "fit = curve_fit(model, 𝕒𝕗.Dp, 𝕒𝕗.N, [65.0, 3.0])\n",
    "Ax = fit.param\n",
    "afmodel = model(thisδ.Dp, Ax)\n",
    "DataFrame(μ=round(Ax[1],digits=1), σ=round(Ax[2],digits=1))"
   ]
  },
  {
   "cell_type": "markdown",
   "metadata": {},
   "source": [
    "<div class=\"alert alert-warning\">\n",
    "    \n",
    "The predicted activation diameter is 86.4 nm. \n",
    "    \n",
    "</div>"
   ]
  },
  {
   "cell_type": "code",
   "execution_count": null,
   "metadata": {},
   "outputs": [],
   "source": [
    "include(\"Scripts/pretty_plot_ccn_data_fit.jl\")"
   ]
  },
  {
   "cell_type": "markdown",
   "metadata": {},
   "source": [
    "**Figure**. Left: Raw CN and CCN response functions. Right: activated fraction. The afmodel accurately describes the +2 charge shoulder. "
   ]
  },
  {
   "cell_type": "markdown",
   "metadata": {},
   "source": [
    "<div class=\"alert alert-danger\">\n",
    "    \n",
    "- The +2 charge shoulder can in some cases be large and interfere with the measurement\n",
    "- It is also possible to fit Taf to 𝕟ᶜⁿ/𝕟ᶜᶜⁿ, where both distributions are inverted. This results in extra noise since two inversions are performed.\n",
    "- The model is only very weakly sensitive to the choice of λ. For small λ, negative values might need filtering. Use of the L-curve is not needed in most cases.\n",
    "- This example is also in a clean notebook: \"Inversion of Size Resolved CCN Data From Data Example\"\n",
    "    \n",
    "</div>"
   ]
  },
  {
   "cell_type": "markdown",
   "metadata": {},
   "source": [
    "<div class=\"alert alert-success\">\n",
    "\n",
    "**You have met the following learning objective.**\n",
    "\n",
    "- Apply the code to invert size resolved CCN data loaded from a data file.\n",
    "    \n",
    "</div>"
   ]
  },
  {
   "cell_type": "markdown",
   "metadata": {},
   "source": [
    "# 7. Summary and Perspective"
   ]
  },
  {
   "cell_type": "markdown",
   "metadata": {},
   "source": [
    "# 8. Epilogue"
   ]
  },
  {
   "cell_type": "markdown",
   "metadata": {},
   "source": [
    "# 9. References\n",
    "\n",
    "\n",
    "Cruz, C. N. and S. N. Pandis (1997). A study of the ability of pure secondary organic aerosol to act as cloud condensation nuclei. Atmospheric Environment 31, 2205–2214, DOI:10.1016/S1352-2310(97)00054-X.\n",
    "\n",
    "Hansen, P. C. (2000) The L-Curve and its Use in the Numerical Treatment of Inverse Problems, in Computational Inverse Problems in Electrocardiology, ed. P. Johnston, Advances in Computational Bioengineering, 119-142, WIT Press. <br> \n",
    "\n",
    "Hagwood, C. (1999) The DMA Transfer Function with Brownian\n",
    "Motion a Trajectory/Monte-Carlo Approach, Aerosol Science & Technology, 30:1, 40-61, DOI:10.1080/027868299304877.\n",
    "\n",
    "Hinds, W. C. (1999) Aerosol Technology, Properties, Behavior, and Measurement of Airborne Particles, Second Edition, John Wiley & Sons, Inc.\n",
    "\n",
    "Kandlikar, M., & Ramachandran, G. (1999) Inverse methods for analysing aerosol spectrometer measurements: A critical review. Journal of Aerosol Science, 30(4), 413-437, DOI:10.1016/S0021-8502(98)00066-4. <br>\n",
    "\n",
    "Knutson, E. O. & K. T. Whitby (1975) Aerosol classification by electric mobility:\n",
    "Apparatus, theory, and applications. J. Aerosol Sci. (6)443-451, DOI:10.1016/0021-8502(75)90060-9.\n",
    "\n",
    "Park, D. Dutcher, M. Emery, J. Pagels, H. Sakurai, J. Scheckman, S. Qian, M. R. Stolzenburg, X. Wang, J. Yang & P. H. McMurry (2008) Tandem Measurements of Aerosol Properties—A Review of Mobility Techniques with Extensions, Aerosol Science and Technology, 42:10, 801-816, DOI:10.1080/02786820802339561.\n",
    "\n",
    "Snider, J. R., M. D. Petters, P. Wechsler, and P. S. K. Liu, (2006), Supersaturation in the Wyoming CCN instrument, Journal Atmospheric Oceanic Technology, 23, 1323-1339, doi:10.1175/JTECH1916.1. \n",
    "\n",
    "Sipkens, T. A., Olfert, J. S., & Rogak, S. N. (2020). Inversion methods to determine two-dimensional aerosol mass-mobility distributions: A critical comparison of established methods. J. Aerosol Sci. 140, 105484.\n",
    "\n",
    "Petters, M. D., A. J. Prenni, S. M. Kreidenweis, P. J. DeMott (2007) On measuring the critical diameter of cloud condensation nuclei using mobility selected aerosol, Aerosol Science & Technology, 41(10), 907-913, doi:10.1080/02786820701557214.\n",
    "\n",
    "Petters, M. D., C. M. Carrico, S. M. Kreidenweis, A. J. Prenni, P. J. DeMott, J. R. Collett Jr., and H. Moosmüller (2009) Cloud condensation nucleation ability of biomass burning aerosol, Journal Geophysical Research, 114, D22205, doi:10.1029/2009JD012353.\n",
    "\n",
    "Petters, M. D. (2018) A language to simplify computation of differential mobility analyzer response functions, Aerosol Science & Technology, 52:12, 1437-1451, DOI:10.1080/02786826.2018.1530724. \n",
    "\n",
    "Reineking A. & J. Porstendörfer (1986) Measurements of Particle Loss Functions in a Differential Mobility Analyzer (TSI, Model 3071) for Different Flow Rates, Aerosol Science and Technology, 5:4, 483-486, DOI:10.1080/02786828608959112\n",
    "\n",
    "Rader, D.J. and P.H. McMurry (1986) Application of the tandem differential mobility analyzer to studies of droplet growth or evaporation,Journal of Aerosol Science, 17(5), 771-787,DOI:10.1016/0021-8502(86)90031-5.\n",
    "\n",
    "Stolzenburg, M. R. & P. H. McMurry (2008) Equations Governing Single and Tandem DMA Configurations and a New Lognormal Approximation to the Transfer Function, Aerosol Science and Technology, 42:6, 421-432, DOI:10.1080/02786820802157823.\n",
    "\n",
    "Talukdar, Suddha S. & Mark T. Swihart (2003) An Improved Data Inversion Program for Obtaining Aerosol Size Distributions from Scanning Differential Mobility Analyzer Data, Aerosol Science and Technology, 37:2, 145-161, DOI:10.1080/02786820300952. <br>\n",
    "\n",
    "TSI Inc. (2009) Series 3080 Electrostatic Classifiers. Operation and Service Manual, P/N 1933792, Revision J March 2009. \n",
    "\n",
    "Twomey, S. (1963) On the numerical solution of Fredholm integral equations of the first kind by inversion of the linear system produced by quadrature, Journal of the ACM, 19(1963), 97–101, DOI:0.1145/321150.321157. <br>\n",
    "\n",
    "Wang, S. C. and Flagan, R. C. (1990). Scanning electrical mobility spectrometer.\n",
    "Aerosol Science and Technology, 13:2, 230–240.\n",
    "\n",
    "Wright, T. P., C. Song, S. Sears & M. D. Petters (2016) Thermodynamic and kinetic behavior of glycerol aerosol, Aerosol Science and Technology, 50:12, 1385-1396, DOI:10.1080/02786826.2016.1245405.\n",
    "\n",
    "Wiedensohler, A. (1988) An approximation of the bipolar charge distribution for particles in the submicron size range, Journal of Aerosol Science, 19:3, 387-389, DOI:10.1016/0021-8502(88)90278-9.\n",
    "\n",
    "Xue, H., Moyle, A. M., Magee, N., Harrington, J. Y., and Lamb, D. (2005), Experimental Studies of Droplet Evaporation Kinetics: Validation of Models for Binary and Ternary Aqueous Solutions. J. Atmos. Sci., 62(12):4310–4326, DOI:10.1175/JAS3623.1."
   ]
  }
 ],
 "metadata": {
  "@webio": {
   "lastCommId": null,
   "lastKernelId": null
  },
  "kernelspec": {
   "display_name": "Julia 1.4.2",
   "language": "julia",
   "name": "julia-1.4"
  },
  "language_info": {
   "file_extension": ".jl",
   "mimetype": "application/julia",
   "name": "julia",
   "version": "1.4.2"
  }
 },
 "nbformat": 4,
 "nbformat_minor": 2
}
